{
  "nbformat": 4,
  "nbformat_minor": 0,
  "metadata": {
    "colab": {
      "provenance": [],
      "authorship_tag": "ABX9TyOsztjeej8MbNc7XhlFv1qW",
      "include_colab_link": true
    },
    "kernelspec": {
      "name": "python3",
      "display_name": "Python 3"
    },
    "language_info": {
      "name": "python"
    }
  },
  "cells": [
    {
      "cell_type": "markdown",
      "metadata": {
        "id": "view-in-github",
        "colab_type": "text"
      },
      "source": [
        "<a href=\"https://colab.research.google.com/github/DJohanTwT/DataV24/blob/main/Clase_3_Python_Variables.ipynb\" target=\"_parent\"><img src=\"https://colab.research.google.com/assets/colab-badge.svg\" alt=\"Open In Colab\"/></a>"
      ]
    },
    {
      "cell_type": "markdown",
      "source": [
        "# **1. What is a variable?**\n",
        "\n",
        "Something that stores a value 'un container que guarda un valor'"
      ],
      "metadata": {
        "id": "IrOqaCm6Q132"
      }
    },
    {
      "cell_type": "code",
      "execution_count": 8,
      "metadata": {
        "colab": {
          "base_uri": "https://localhost:8080/"
        },
        "id": "4c9KS1o6QdYJ",
        "outputId": "c05fbb76-c9c2-411a-9515-3431b42f8e34"
      },
      "outputs": [
        {
          "output_type": "stream",
          "name": "stdout",
          "text": [
            "10\n"
          ]
        }
      ],
      "source": [
        "# Example\n",
        "a = 10 #int (entero)\n",
        "print(a)"
      ]
    },
    {
      "cell_type": "code",
      "source": [
        "b = 3.2 #float (decimal)\n",
        "print(b)"
      ],
      "metadata": {
        "colab": {
          "base_uri": "https://localhost:8080/"
        },
        "id": "7hUEftyXRjL_",
        "outputId": "d5b0bd3e-dda1-49a3-bcd7-80c8ededbe58"
      },
      "execution_count": 9,
      "outputs": [
        {
          "output_type": "stream",
          "name": "stdout",
          "text": [
            "3.2\n"
          ]
        }
      ]
    },
    {
      "cell_type": "code",
      "source": [
        "# Example as calculator\n",
        "print(a + b)"
      ],
      "metadata": {
        "colab": {
          "base_uri": "https://localhost:8080/"
        },
        "id": "d72P9UOYSIg4",
        "outputId": "36b7b341-4e8f-4cc6-cdbc-4f5ef855a3a5"
      },
      "execution_count": 13,
      "outputs": [
        {
          "output_type": "stream",
          "name": "stdout",
          "text": [
            "13.2\n"
          ]
        }
      ]
    },
    {
      "cell_type": "markdown",
      "source": [
        "# **2. Chain Assingmet**"
      ],
      "metadata": {
        "id": "OCgge7gfTiSf"
      }
    },
    {
      "cell_type": "code",
      "source": [
        "#Chain assingment 1 - asignación en cadena\n",
        "a, b = 10, 3.2 #para cada variable se le asigna el numero correspondiente despues de la coma en cadena\n",
        "print(a + b)\n",
        "\n"
      ],
      "metadata": {
        "colab": {
          "base_uri": "https://localhost:8080/"
        },
        "id": "5yYFk4MaSdl6",
        "outputId": "09312983-1121-4101-dac3-f7856023adb4"
      },
      "execution_count": 15,
      "outputs": [
        {
          "output_type": "stream",
          "name": "stdout",
          "text": [
            "13.2\n"
          ]
        }
      ]
    },
    {
      "cell_type": "code",
      "source": [
        "#Chain assignment 2\n",
        "x = y = z = 100 #para cada variable se le asigna 100\n",
        "print(x, y, z)"
      ],
      "metadata": {
        "colab": {
          "base_uri": "https://localhost:8080/"
        },
        "id": "047grVk8S_TG",
        "outputId": "5e955d3e-d302-4359-d984-3c583e53db49"
      },
      "execution_count": 19,
      "outputs": [
        {
          "output_type": "stream",
          "name": "stdout",
          "text": [
            "100 100 100\n"
          ]
        }
      ]
    },
    {
      "cell_type": "markdown",
      "source": [
        "# **3. Delete and Clear**"
      ],
      "metadata": {
        "id": "8pj7nNkZTeXO"
      }
    },
    {
      "cell_type": "code",
      "source": [
        "# Delete x, y, c, z\n",
        "del c"
      ],
      "metadata": {
        "id": "Vjm9b7yZTZdX"
      },
      "execution_count": 26,
      "outputs": []
    },
    {
      "cell_type": "code",
      "source": [
        "# Erase all variable\n",
        "%reset #Borrar todas las variables, pregunta si se quiere o no borrar antes de ejecutar"
      ],
      "metadata": {
        "colab": {
          "base_uri": "https://localhost:8080/"
        },
        "id": "WgRCOKSJT56R",
        "outputId": "f62f8e81-706c-43fa-b4cc-69ad6de8053c"
      },
      "execution_count": 27,
      "outputs": [
        {
          "name": "stdout",
          "output_type": "stream",
          "text": [
            "Once deleted, variables cannot be recovered. Proceed (y/[n])? y\n"
          ]
        }
      ]
    }
  ]
}