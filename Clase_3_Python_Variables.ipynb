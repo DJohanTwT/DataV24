{
  "nbformat": 4,
  "nbformat_minor": 0,
  "metadata": {
    "colab": {
      "provenance": [],
      "authorship_tag": "ABX9TyPoh1YbyC7X2vh+3ef1r/iP",
      "include_colab_link": true
    },
    "kernelspec": {
      "name": "python3",
      "display_name": "Python 3"
    },
    "language_info": {
      "name": "python"
    }
  },
  "cells": [
    {
      "cell_type": "markdown",
      "metadata": {
        "id": "view-in-github",
        "colab_type": "text"
      },
      "source": [
        "<a href=\"https://colab.research.google.com/github/DJohanTwT/DataV24/blob/main/Clase_3_Python_Variables.ipynb\" target=\"_parent\"><img src=\"https://colab.research.google.com/assets/colab-badge.svg\" alt=\"Open In Colab\"/></a>"
      ]
    },
    {
      "cell_type": "markdown",
      "source": [
        "# **1. What is a variable?**\n",
        "\n",
        "Something that stores a value 'un container que guarda un valor'"
      ],
      "metadata": {
        "id": "IrOqaCm6Q132"
      }
    },
    {
      "cell_type": "code",
      "execution_count": 5,
      "metadata": {
        "colab": {
          "base_uri": "https://localhost:8080/"
        },
        "id": "4c9KS1o6QdYJ",
        "outputId": "4067bfc0-0df1-47f2-f73e-ad96de651e13"
      },
      "outputs": [
        {
          "output_type": "execute_result",
          "data": {
            "text/plain": [
              "10"
            ]
          },
          "metadata": {},
          "execution_count": 5
        }
      ],
      "source": [
        "# Example\n",
        "a = 10 #int (entero)\n",
        "a"
      ]
    },
    {
      "cell_type": "code",
      "source": [
        "b = 3.2 #float (decimal)\n",
        "b"
      ],
      "metadata": {
        "id": "7hUEftyXRjL_"
      },
      "execution_count": 7,
      "outputs": []
    }
  ]
}