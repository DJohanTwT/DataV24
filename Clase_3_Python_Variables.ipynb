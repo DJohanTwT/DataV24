{
  "nbformat": 4,
  "nbformat_minor": 0,
  "metadata": {
    "colab": {
      "provenance": [],
      "authorship_tag": "ABX9TyM0UlssDhF3SsYiEykqgqvV",
      "include_colab_link": true
    },
    "kernelspec": {
      "name": "python3",
      "display_name": "Python 3"
    },
    "language_info": {
      "name": "python"
    }
  },
  "cells": [
    {
      "cell_type": "markdown",
      "metadata": {
        "id": "view-in-github",
        "colab_type": "text"
      },
      "source": [
        "<a href=\"https://colab.research.google.com/github/DJohanTwT/DataV24/blob/main/Clase_3_Python_Variables.ipynb\" target=\"_parent\"><img src=\"https://colab.research.google.com/assets/colab-badge.svg\" alt=\"Open In Colab\"/></a>"
      ]
    },
    {
      "cell_type": "markdown",
      "source": [
        "# **1. What is a variable?**\n",
        "\n",
        "Something that stores a value 'un container que guarda un valor'"
      ],
      "metadata": {
        "id": "IrOqaCm6Q132"
      }
    },
    {
      "cell_type": "code",
      "execution_count": 8,
      "metadata": {
        "colab": {
          "base_uri": "https://localhost:8080/"
        },
        "id": "4c9KS1o6QdYJ",
        "outputId": "c05fbb76-c9c2-411a-9515-3431b42f8e34"
      },
      "outputs": [
        {
          "output_type": "stream",
          "name": "stdout",
          "text": [
            "10\n"
          ]
        }
      ],
      "source": [
        "# Example\n",
        "a = 10 #int (entero)\n",
        "print(a)"
      ]
    },
    {
      "cell_type": "code",
      "source": [
        "b = 3.2 #float (decimal)\n",
        "print(b)"
      ],
      "metadata": {
        "colab": {
          "base_uri": "https://localhost:8080/"
        },
        "id": "7hUEftyXRjL_",
        "outputId": "d5b0bd3e-dda1-49a3-bcd7-80c8ededbe58"
      },
      "execution_count": 9,
      "outputs": [
        {
          "output_type": "stream",
          "name": "stdout",
          "text": [
            "3.2\n"
          ]
        }
      ]
    },
    {
      "cell_type": "code",
      "source": [
        "# Example as calculator\n",
        "print(a + b)"
      ],
      "metadata": {
        "colab": {
          "base_uri": "https://localhost:8080/"
        },
        "id": "d72P9UOYSIg4",
        "outputId": "36b7b341-4e8f-4cc6-cdbc-4f5ef855a3a5"
      },
      "execution_count": 13,
      "outputs": [
        {
          "output_type": "stream",
          "name": "stdout",
          "text": [
            "13.2\n"
          ]
        }
      ]
    },
    {
      "cell_type": "markdown",
      "source": [
        "# **2. Chain Assingmet**"
      ],
      "metadata": {
        "id": "OCgge7gfTiSf"
      }
    },
    {
      "cell_type": "code",
      "source": [
        "#Chain assingment 1 - asignación en cadena\n",
        "a, b = 10, 3.2 #para cada variable se le asigna el numero correspondiente despues de la coma en cadena\n",
        "print(a + b)\n",
        "\n"
      ],
      "metadata": {
        "colab": {
          "base_uri": "https://localhost:8080/"
        },
        "id": "5yYFk4MaSdl6",
        "outputId": "09312983-1121-4101-dac3-f7856023adb4"
      },
      "execution_count": 15,
      "outputs": [
        {
          "output_type": "stream",
          "name": "stdout",
          "text": [
            "13.2\n"
          ]
        }
      ]
    },
    {
      "cell_type": "code",
      "source": [
        "#Chain assignment 2\n",
        "x = y = z = 100 #para cada variable se le asigna 100\n",
        "print(x, y, z)"
      ],
      "metadata": {
        "colab": {
          "base_uri": "https://localhost:8080/"
        },
        "id": "047grVk8S_TG",
        "outputId": "5e955d3e-d302-4359-d984-3c583e53db49"
      },
      "execution_count": 19,
      "outputs": [
        {
          "output_type": "stream",
          "name": "stdout",
          "text": [
            "100 100 100\n"
          ]
        }
      ]
    },
    {
      "cell_type": "markdown",
      "source": [
        "# **3. Delete and Clear**"
      ],
      "metadata": {
        "id": "8pj7nNkZTeXO"
      }
    },
    {
      "cell_type": "code",
      "source": [
        "# Delete x, y, c, z\n",
        "del c"
      ],
      "metadata": {
        "id": "Vjm9b7yZTZdX"
      },
      "execution_count": 26,
      "outputs": []
    },
    {
      "cell_type": "code",
      "source": [
        "# Erase all variable\n",
        "%reset #Borrar todas las variables, pregunta si se quiere o no borrar antes de ejecutar"
      ],
      "metadata": {
        "colab": {
          "base_uri": "https://localhost:8080/"
        },
        "id": "WgRCOKSJT56R",
        "outputId": "f62f8e81-706c-43fa-b4cc-69ad6de8053c"
      },
      "execution_count": 27,
      "outputs": [
        {
          "name": "stdout",
          "output_type": "stream",
          "text": [
            "Once deleted, variables cannot be recovered. Proceed (y/[n])? y\n"
          ]
        }
      ]
    },
    {
      "cell_type": "markdown",
      "source": [
        "# **Practice**"
      ],
      "metadata": {
        "id": "sxeG2DwpUakg"
      }
    },
    {
      "cell_type": "code",
      "source": [
        "# Practice\n",
        "## Approximate the number 15.476352489 to 1, 2, 3...8 decimals and print the results.\n",
        "## Use variables\n",
        "n = 15.476352489\n",
        "\n",
        "print('The aproximation of', n)\n",
        "for i in range(1, 9):\n",
        "  print('with', i, 'decimals is:', round(n, i))"
      ],
      "metadata": {
        "colab": {
          "base_uri": "https://localhost:8080/"
        },
        "id": "lzd1AowPUUJ-",
        "outputId": "29493b2b-9e08-4e15-e201-dd60b040089b"
      },
      "execution_count": 48,
      "outputs": [
        {
          "output_type": "stream",
          "name": "stdout",
          "text": [
            "The aproximation of 15.476352489\n",
            "with 1 decimals is: 15.5\n",
            "with 2 decimals is: 15.48\n",
            "with 3 decimals is: 15.476\n",
            "with 4 decimals is: 15.4764\n",
            "with 5 decimals is: 15.47635\n",
            "with 6 decimals is: 15.476352\n",
            "with 7 decimals is: 15.4763525\n",
            "with 8 decimals is: 15.47635249\n"
          ]
        }
      ]
    },
    {
      "cell_type": "code",
      "source": [
        "n = 15.476352489\n",
        "a = 1\n",
        "b = 9\n",
        "\n",
        "print('The aproximation of', n)\n",
        "for i in range(a, b):\n",
        "  print('with', i, 'decimals is:', round(n, i))"
      ],
      "metadata": {
        "colab": {
          "base_uri": "https://localhost:8080/"
        },
        "id": "IRMfGNMLWj9H",
        "outputId": "9a8546a9-a595-4569-96ad-52da1f25be8a"
      },
      "execution_count": 49,
      "outputs": [
        {
          "output_type": "stream",
          "name": "stdout",
          "text": [
            "The aproximation of 15.476352489\n",
            "with 1 decimals is: 15.5\n",
            "with 2 decimals is: 15.48\n",
            "with 3 decimals is: 15.476\n",
            "with 4 decimals is: 15.4764\n",
            "with 5 decimals is: 15.47635\n",
            "with 6 decimals is: 15.476352\n",
            "with 7 decimals is: 15.4763525\n",
            "with 8 decimals is: 15.47635249\n"
          ]
        }
      ]
    },
    {
      "cell_type": "code",
      "source": [
        "# Something but not relevant\n",
        "w = 0\n"
      ],
      "metadata": {
        "id": "GcbfFdaBXFbC"
      },
      "execution_count": 63,
      "outputs": []
    },
    {
      "cell_type": "code",
      "source": [
        "w += 2"
      ],
      "metadata": {
        "id": "qeOcsEZFXLVJ"
      },
      "execution_count": 69,
      "outputs": []
    },
    {
      "cell_type": "markdown",
      "source": [
        "# **4. Naming**\n",
        "Poner nombre a las variables"
      ],
      "metadata": {
        "id": "SRV0STZTX9Fs"
      }
    },
    {
      "cell_type": "code",
      "source": [
        "# Example\n",
        "my_age = 21\n"
      ],
      "metadata": {
        "id": "y4AmZuIeYCbJ"
      },
      "execution_count": 75,
      "outputs": []
    },
    {
      "cell_type": "markdown",
      "source": [
        "# **5. Data types**"
      ],
      "metadata": {
        "id": "xwyATYOnZOHk"
      }
    },
    {
      "cell_type": "markdown",
      "source": [
        "## 5.1. Integers"
      ],
      "metadata": {
        "id": "f5Ae4d5lZWvK"
      }
    },
    {
      "cell_type": "markdown",
      "source": [
        "## 5.2. Floats\n"
      ],
      "metadata": {
        "id": "tKqxP41iZZpB"
      }
    },
    {
      "cell_type": "markdown",
      "source": [
        "## 5.3. Booleans (Bool)\n",
        "Variables que solo toman dos valores, verdadero o falso.\n",
        "\n",
        "Variables that takes two values, true or false"
      ],
      "metadata": {
        "id": "DHL2GcNcZcsB"
      }
    },
    {
      "cell_type": "code",
      "source": [
        "red_shirt = True"
      ],
      "metadata": {
        "id": "W9ig4FVIZs8k"
      },
      "execution_count": 76,
      "outputs": []
    },
    {
      "cell_type": "markdown",
      "source": [
        "### Boolena Expressions"
      ],
      "metadata": {
        "id": "FOoas54EZ7md"
      }
    },
    {
      "cell_type": "code",
      "source": [
        "# Example 1 - verificar si es X es menor a Y\n",
        "x = 2\n",
        "y = 3\n",
        "print(x < y)"
      ],
      "metadata": {
        "colab": {
          "base_uri": "https://localhost:8080/"
        },
        "id": "2Vj8Cj80Z_Cg",
        "outputId": "2da3bb64-6518-4de4-9b67-d0d661541e26"
      },
      "execution_count": 79,
      "outputs": [
        {
          "output_type": "stream",
          "name": "stdout",
          "text": [
            "True\n"
          ]
        }
      ]
    },
    {
      "cell_type": "code",
      "source": [
        "# Example 2\n",
        "x = 2\n",
        "y = 3\n",
        "print('x is less than y?', x < y)\n",
        "print('x is greater than y?', x > y)\n",
        "print('x is equal to y?', x == y)\n",
        "print('x is not equal to y?', x != y)\n",
        "print('x is less or equal than y?', x <= y)\n",
        "print('x is greater or equal than y?', x >= y)"
      ],
      "metadata": {
        "colab": {
          "base_uri": "https://localhost:8080/"
        },
        "id": "7FjU_karaNF0",
        "outputId": "25b71f39-23b0-4d0d-aa97-debb2f3fa4e7"
      },
      "execution_count": 80,
      "outputs": [
        {
          "output_type": "stream",
          "name": "stdout",
          "text": [
            "x is less than y? True\n",
            "x is greater than y? False\n",
            "x is equal to y? False\n",
            "x is not equal to y? True\n",
            "x is less or equal than y? True\n",
            "x is greater or equal than y? False\n"
          ]
        }
      ]
    },
    {
      "cell_type": "code",
      "source": [
        "### Boolean math\n",
        "red_shirt = True\n",
        "blue_shirt = False\n",
        "print(red_shirt + blue_shirt)\n",
        "print(red_shirt + red_shirt)\n",
        "print(blue_shirt + blue_shirt)"
      ],
      "metadata": {
        "colab": {
          "base_uri": "https://localhost:8080/"
        },
        "id": "KoLvI7Tpa_9b",
        "outputId": "8e4018ba-a47f-47d5-8c06-93fb52249f9e"
      },
      "execution_count": 82,
      "outputs": [
        {
          "output_type": "stream",
          "name": "stdout",
          "text": [
            "1\n",
            "2\n",
            "0\n"
          ]
        }
      ]
    },
    {
      "cell_type": "markdown",
      "source": [
        "## 5.4. String"
      ],
      "metadata": {
        "id": "jNn-xBSgcyz1"
      }
    },
    {
      "cell_type": "code",
      "source": [
        "# Example\n",
        "x = \"La Salle University\" #como es texto, se denomina str\n",
        "print(x) #chars tiene en cuenta simbolos, letras, numeros y espacios dentro de un texto"
      ],
      "metadata": {
        "colab": {
          "base_uri": "https://localhost:8080/"
        },
        "id": "Q-HDpe9pc5My",
        "outputId": "17bad1fc-ecf8-4454-c0f2-7962667a739b"
      },
      "execution_count": 83,
      "outputs": [
        {
          "output_type": "stream",
          "name": "stdout",
          "text": [
            "La Salle University\n"
          ]
        }
      ]
    },
    {
      "cell_type": "markdown",
      "source": [
        "### Index"
      ],
      "metadata": {
        "id": "eN2cVuL6dZJX"
      }
    },
    {
      "cell_type": "code",
      "source": [
        "# Example\n",
        "print(\"The first element of x is:\", x[0])\n",
        "print(\"The last element of x is:\", x[-1])"
      ],
      "metadata": {
        "colab": {
          "base_uri": "https://localhost:8080/"
        },
        "id": "ps_ZegFCdcxP",
        "outputId": "153b746f-6839-453f-cc15-d81fc987cda8"
      },
      "execution_count": 88,
      "outputs": [
        {
          "output_type": "stream",
          "name": "stdout",
          "text": [
            "The first element of x is: L\n",
            "The last element of x is: y\n"
          ]
        }
      ]
    },
    {
      "cell_type": "code",
      "source": [
        "# Example\n",
        "print(\"The second element of x is:\", x[1])\n",
        "print(\"The second to last element of x is:\", x[-2])\n"
      ],
      "metadata": {
        "colab": {
          "base_uri": "https://localhost:8080/"
        },
        "id": "Zp9wDeRtd5A0",
        "outputId": "0a796507-adb4-42cc-9da8-75fbbaaefe56"
      },
      "execution_count": 90,
      "outputs": [
        {
          "output_type": "stream",
          "name": "stdout",
          "text": [
            "The second element of x is: a\n",
            "The second to last element of x is: t\n"
          ]
        }
      ]
    }
  ]
}