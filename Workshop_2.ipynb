{
  "nbformat": 4,
  "nbformat_minor": 0,
  "metadata": {
    "colab": {
      "provenance": [],
      "include_colab_link": true
    },
    "kernelspec": {
      "name": "python3",
      "display_name": "Python 3"
    },
    "language_info": {
      "name": "python"
    }
  },
  "cells": [
    {
      "cell_type": "markdown",
      "metadata": {
        "id": "view-in-github",
        "colab_type": "text"
      },
      "source": [
        "<a href=\"https://colab.research.google.com/github/DJohanTwT/DataV24/blob/main/Workshop_2.ipynb\" target=\"_parent\"><img src=\"https://colab.research.google.com/assets/colab-badge.svg\" alt=\"Open In Colab\"/></a>"
      ]
    },
    {
      "cell_type": "markdown",
      "source": [
        "<h1 align = \"center\">\n",
        "<strong> Universidad de La Salle </strong>\n",
        "</h1>\n",
        "\n",
        "<h1 align = \"center\">\n",
        "<strong> Finance and International Commerce Program </strong>\n",
        "</h1>\n",
        "\n",
        "<h1 align = \"center\">\n",
        "<strong> Data Visualization - Workshop 2 </strong>\n",
        "</h1>\n"
      ],
      "metadata": {
        "id": "BJolccUZSw9G"
      }
    },
    {
      "cell_type": "markdown",
      "source": [
        "# **Instructions**\n",
        "\n",
        "1. Please read carefully the document. Ask all the questions you may have.\n",
        "2. Save this file in your Google Drive.\n",
        "3. DO NOT alter any cell unless it specifically ask you to do it.\n",
        "4. You will have **two hours** (until 11am) maximum to finish and deliver this workshop.\n",
        "5. You can use any help you want: your notes, your codes, internet, classmates.\n",
        "6. Nevertheless, the workshop must be presented individually.\n",
        "7. Once you have finish, save a copy in your GitHub class repository.\n",
        "8. The deliver process is as follows:\n",
        "    \n",
        "    8.1. Via email you will send the link to the GitHub location.\n",
        "    \n",
        "    8.2. In the same mail, just for safety, you will attach a copy of your `.ipynb` file.\n",
        "    \n",
        "    8.3. The email must have the subject: \"W2 DV\".   "
      ],
      "metadata": {
        "id": "pLRc5RAyWsre"
      }
    },
    {
      "cell_type": "markdown",
      "source": [
        "# **To keep in mind**\n",
        "\n",
        "* The excercises propouse are intended to **push** you a little futher in your Pyton skills.\n",
        "* This means that there are going to be exercises above the level seen in class.\n",
        "* The idea is to incentive your creative thinking and solving problem skills.\n",
        "* As always there several ways to do the excersice. But in this case, I ask you to use only the tools we learned.\n",
        "* I ask you to trust me. Give your best effort. Grades do not matter here."
      ],
      "metadata": {
        "id": "4QKdNKujZEbk"
      }
    },
    {
      "cell_type": "markdown",
      "source": [
        "# **Exercise**\n",
        "\n",
        "**Roulette!**\n",
        "\n",
        "Let's simulate a casino game.\n",
        "Specifically, a single-zero (french) roulette.\n",
        "\n",
        "This game consists on rolling a ball over a wheel with number pockets.\n",
        "\n",
        "[Game](https://image.shutterstock.com/image-illustration/casino-roulette-wheel-chips-on-600w-1288790665.jpg)\n",
        "\n",
        "There are several ways to bet on this game, you have to code a few."
      ],
      "metadata": {
        "id": "2kRoSKUmaGl9"
      }
    },
    {
      "cell_type": "code",
      "source": [
        "import numpy as np"
      ],
      "metadata": {
        "id": "8lMuVMe0iwhw"
      },
      "execution_count": 1,
      "outputs": []
    },
    {
      "cell_type": "markdown",
      "source": [
        "## Ex 1 - Number Bet\n",
        "\n",
        "You can bet on any number between 0 and 36.\n",
        "You win if the result is the number you bet on.\n",
        "In any other case, you lose.\n",
        "\n",
        "Write the appropiate the code to reflect this process.\n",
        "\n",
        "The result must show the bet made, the result obtained and if you win or lose."
      ],
      "metadata": {
        "id": "PYIRNu3imJ_n"
      }
    },
    {
      "cell_type": "code",
      "execution_count": 35,
      "metadata": {
        "id": "9TaC9734lQMI",
        "colab": {
          "base_uri": "https://localhost:8080/"
        },
        "outputId": "a26abeff-844b-494f-c553-03814a496147"
      },
      "outputs": [
        {
          "output_type": "stream",
          "name": "stdout",
          "text": [
            "My bet was 15\n",
            "I won. The bet number is 15\n"
          ]
        }
      ],
      "source": [
        "# Answ. Ex 1\n",
        "# (write your code below)\n",
        "\n",
        "bet_number = 15\n",
        "\n",
        "print(\"My bet was\", bet_number)\n",
        "\n",
        "bet_random_number = np.random.randint(0,37)\n",
        "\n",
        "if bet_number == bet_random_number:\n",
        "  print(\"I won. The bet number is\", bet_random_number)\n",
        "else:\n",
        "  print(\"I lost. The bet number is\", bet_random_number)\n"
      ]
    },
    {
      "cell_type": "markdown",
      "source": [
        "## Ex 2 - Color Bet\n",
        "\n",
        "Each color has an associated color. Zero is neutral.\n",
        "\n",
        "And the rest of the numbers vary between black and red (see the previous image).\n",
        "\n",
        "Write the appropiate code to simulate a random round of Roulette using only the color bet (black or red).\n",
        "\n",
        "The result must show the bet made, the result obtained and if you win or lose.\n",
        "\n",
        "*Tip: first define when you lose and when you win.*"
      ],
      "metadata": {
        "id": "LAdWe8iEaL7B"
      }
    },
    {
      "cell_type": "code",
      "execution_count": 59,
      "metadata": {
        "id": "rw792kISSt3n",
        "colab": {
          "base_uri": "https://localhost:8080/"
        },
        "outputId": "3b7b20cd-eb95-450b-b2b6-a626ffcd0202"
      },
      "outputs": [
        {
          "output_type": "stream",
          "name": "stdout",
          "text": [
            "My bet was red\n",
            "I won. The color is red and the bet number is 16\n"
          ]
        }
      ],
      "source": [
        "# Answ. Ex 2\n",
        "# (write your code below)\n",
        "\n",
        "bet_number = np.random.randint(0,37)\n",
        "bet_color = \"red\"\n",
        "\n",
        "print(\"My bet was\", bet_color)\n",
        "\n",
        "red_numbers = [1,3,5,7,9,12,14,16,18,19,21,23,25,27,30,32,34,36]\n",
        "black_numbers = [2,4,6,8,10,11,13,15,17,20,22,24,26,28,29,31,33,35]\n",
        "\n",
        "if bet_number == 0:\n",
        "  color = \"neural\"\n",
        "elif bet_number in black_numbers:\n",
        "  color = \"black\"\n",
        "else:\n",
        "  color = \"red\"\n",
        "\n",
        "if bet_color == color:\n",
        "  print(\"I won. The color is\", color, \"and the bet number is\", bet_number)\n",
        "else:\n",
        "  print(\"I lost. The color is\", color, \"and the bet number is\", bet_number)"
      ]
    },
    {
      "cell_type": "markdown",
      "source": [
        "## Ex 3 - Dozens Bet\n",
        "\n",
        "Given the 3 groups:\n",
        "\n",
        "A -> numbers between 1 and 12.\n",
        "B -> numbers between 13 and 24.\n",
        "C -> numbers between 25 and 36.\n",
        "\n",
        "Write the appropiate code to print the result of betting exclusively with dozens.\n",
        "\n",
        "The result must show the bet made, the result obtained and if you win or lose.\n",
        "\n",
        "*Tip: Note that zero is not in the groups but it is a possible result.*"
      ],
      "metadata": {
        "id": "YFsGiwcNfgzP"
      }
    },
    {
      "cell_type": "code",
      "source": [
        "# Answ. Ex 3\n",
        "# (write your code below)\n",
        "\n",
        "bet_number = np.random.randint(0,37)\n",
        "bet_dozen = \"C\"\n",
        "\n",
        "print(\"My bet was\", bet_dozen)\n",
        "\n",
        "dozens_A = range(1,13)\n",
        "dozens_B = range(13,25)\n",
        "dozens_C = range(25,37)\n",
        "\n",
        "if bet_number == 0:\n",
        "  dozen = \"invalid\"\n",
        "elif bet_number in dozens_A:\n",
        "  dozen = \"A\"\n",
        "elif bet_number in dozens_B:\n",
        "  dozen = \"B\"\n",
        "elif bet_number in dozens_C:\n",
        "  dozen = \"C\"\n",
        "else:\n",
        "  print(\"none, try again\")\n",
        "\n",
        "if dozen == \"invalid\":\n",
        "  print(\"Invalid bet. Zero is not in the groups. Try again\")\n",
        "\n",
        "if bet_dozen == dozen:\n",
        "  print(\"I won. The dozen is\", dozen, \"and the bet number is\", bet_number)\n",
        "else:\n",
        "  print(\"I lost. The dozen is\", dozen, \"and the bet number is\", bet_number)"
      ],
      "metadata": {
        "id": "Dwdsh30Ti3vl",
        "colab": {
          "base_uri": "https://localhost:8080/"
        },
        "outputId": "7296c139-8765-4d0a-f2d2-0855dcb23ffa"
      },
      "execution_count": 288,
      "outputs": [
        {
          "output_type": "stream",
          "name": "stdout",
          "text": [
            "My bet was C\n",
            "I won. The dozen is C and the bet number is 32\n"
          ]
        }
      ]
    },
    {
      "cell_type": "markdown",
      "source": [
        "## Ex 4 - Putting everything together\n",
        "\n",
        "Write the code that simulate a random game of Roulette where the person can bet on: Number, Color, Dozen or any combination she or he wants.\n",
        "\n",
        "The result must show the bet made, the result obtained and if you win or lose."
      ],
      "metadata": {
        "id": "RSyiV1UPlVcJ"
      }
    },
    {
      "cell_type": "code",
      "source": [
        "# Answ. Ex 4\n",
        "# (write your code below)\n",
        "\n",
        "bet_number = np.random.randint(0,37)\n",
        "\n",
        "red_numbers = [1,3,5,7,9,12,14,16,18,19,21,23,25,27,30,32,34,36]\n",
        "black_numbers = [2,4,6,8,10,11,13,15,17,20,22,24,26,28,29,31,33,35]\n",
        "\n",
        "dozens_A = range(1,13)\n",
        "dozens_B = range(13,25)\n",
        "dozens_C = range(25,37)\n",
        "\n",
        "bet_number_choise = None       # if not, write None\n",
        "bet_color_choise = \"red\"    # if not, write None\n",
        "bet_dozen_choise = None      # if not, write None\n",
        "\n",
        "if bet_number == 0:\n",
        "  color = \"neural\"\n",
        "elif bet_number in black_numbers:\n",
        "  color = \"black\"\n",
        "else:\n",
        "  color = \"red\"\n",
        "\n",
        "if bet_number == 0:\n",
        "  dozen = \"invalid\"\n",
        "elif bet_number in dozens_A:\n",
        "  dozen = \"A\"\n",
        "elif bet_number in dozens_B:\n",
        "  dozen = \"B\"\n",
        "elif bet_number in dozens_C:\n",
        "  dozen = \"C\"\n",
        "else:\n",
        "  print(\"none, try again\")\n",
        "\n",
        "print(\"The bet number is\", bet_number, \"and the color is\", color, \"and the dozen is\", dozen)\n",
        "\n",
        "won = True\n",
        "\n",
        "if bet_number_choise is not None:\n",
        "  print(\"\\nMy bet number was\", bet_number_choise)\n",
        "  if bet_number != bet_number_choise:\n",
        "    won = False\n",
        "\n",
        "if bet_color_choise is not None:\n",
        "  print(\"\\nMy bet color was\", bet_color_choise)\n",
        "  if color != bet_color_choise:\n",
        "    won = False\n",
        "\n",
        "if bet_dozen_choise is not None:\n",
        "  print(\"\\nMy dozen bet was\", bet_dozen_choise)\n",
        "  if dozen != bet_dozen_choise:\n",
        "    won = False\n",
        "\n",
        "if won:\n",
        "  print(\"\\nI won, try again\")\n",
        "else:\n",
        "  print(\"\\nI lost, try again\")\n"
      ],
      "metadata": {
        "id": "FQU_vc_5sse0",
        "colab": {
          "base_uri": "https://localhost:8080/"
        },
        "outputId": "b6c36e5d-2f05-44c8-ce51-8a6e3c3a1cf7"
      },
      "execution_count": 443,
      "outputs": [
        {
          "output_type": "stream",
          "name": "stdout",
          "text": [
            "The bet number is 21 and the color is red and the dozen is B\n",
            "\n",
            "My bet color was red\n",
            "\n",
            "I won, try again\n"
          ]
        }
      ]
    }
  ]
}