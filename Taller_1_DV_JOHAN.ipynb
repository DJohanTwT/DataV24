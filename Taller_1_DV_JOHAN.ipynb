{
  "nbformat": 4,
  "nbformat_minor": 0,
  "metadata": {
    "colab": {
      "provenance": [],
      "authorship_tag": "ABX9TyO8RQmEZBxZyF8lRlkdgWnZ",
      "include_colab_link": true
    },
    "kernelspec": {
      "name": "python3",
      "display_name": "Python 3"
    },
    "language_info": {
      "name": "python"
    }
  },
  "cells": [
    {
      "cell_type": "markdown",
      "metadata": {
        "id": "view-in-github",
        "colab_type": "text"
      },
      "source": [
        "<a href=\"https://colab.research.google.com/github/DJohanTwT/DataV24/blob/main/Taller_1_DV_JOHAN.ipynb\" target=\"_parent\"><img src=\"https://colab.research.google.com/assets/colab-badge.svg\" alt=\"Open In Colab\"/></a>"
      ]
    },
    {
      "cell_type": "markdown",
      "source": [
        "#**1. Dataset**"
      ],
      "metadata": {
        "id": "S29C2bkvZyYq"
      }
    },
    {
      "cell_type": "markdown",
      "source": [
        "##**1.1. Variable Description**\n",
        "\n",
        "These are the variables that I will use.\n",
        "* <font color = \"red\"> Exports of goods and services (% of GDP): </font> Exports of goods and services represent the value of all goods and other market services provided to the rest of the world as GDP percentage. They include the value of merchandise, freight, insurance, transport, travel, royalties, license fees, and other services, such as communication, construction, financial, information, business, personal, and government services. They exclude compensation of employees and investment income (formerly called factor services) and transfer payments.\n",
        "* <font color = \"red\"> Imports of goods and services (% of GDP): </font> Imports of goods and services represent the value of all goods and other market services received from the rest of the world as GDP percentage. They include the value of merchandise, freight, insurance, transport, travel, royalties, license fees, and other services, such as communication, construction, financial, information, business, personal, and government services. They exclude compensation of employees and investment income (formerly called factor services) and transfer payments.\n",
        "* <font color = \"red\"> Foreign direct investment, net inflows (% of GDP):</font> Foreign direct investment are the net inflows of investment to acquire a lasting management interest (10 percent or more of voting stock) in an enterprise operating in an economy other than that of the investor. It is the sum of equity capital, reinvestment of earnings, other long-term capital, and short-term capital as shown in the balance of payments. This series shows net inflows (new investment inflows less disinvestment) in the reporting economy from foreign investors, and is divided by GDP.\n",
        "* <font color = \"red\"> Trade (% of GDP):</font> Trade is the sum of exports and imports of goods and services measured as a share of gross domestic product.\n",
        "* <font color = \"red\"> GDP growth (annual %):</font>  Annual percentage growth rate of GDP at market prices based on constant local currency. Aggregates are based on constant 2015 prices, expressed in U.S. dollars. GDP is the sum of gross value added by all resident producers in the economy plus any product taxes and minus any subsidies not included in the value of the products. It is calculated without making deductions for depreciation of fabricated assets or for depletion and degradation of natural resources.\n",
        "* <font color = \"red\"> Current account balance (% of GDP):</font> Current account balance is the sum of net exports of goods and services, net primary income, and net secondary income.\n"
      ],
      "metadata": {
        "id": "pdzEsqqnZ0qZ"
      }
    },
    {
      "cell_type": "markdown",
      "source": [
        "##**1.2. Years of time frame**\n",
        "\n",
        "The base runs from 2018 to 2023"
      ],
      "metadata": {
        "id": "1pygVKctZ5hk"
      }
    },
    {
      "cell_type": "markdown",
      "source": [
        "##**1.3. Frequency**\n",
        "Data frequency is annual"
      ],
      "metadata": {
        "id": "K-eu-wqPgOWZ"
      }
    },
    {
      "cell_type": "markdown",
      "source": [
        "##**1.4. Sources**\n",
        "\n",
        "Data Bank. (2024). World Development Indicators. [Data set]. World Bank Group. [Source](https://databank.worldbank.org/source/world-development-indicators)"
      ],
      "metadata": {
        "id": "G4uSCWmMgki_"
      }
    },
    {
      "cell_type": "markdown",
      "source": [
        "#**2. Goal of DV**"
      ],
      "metadata": {
        "id": "jWJd-Ix5h3nT"
      }
    },
    {
      "cell_type": "markdown",
      "source": [
        "##**2.1. What is the main message of the dataset? The Hypothesis**\n",
        "\n"
      ],
      "metadata": {
        "id": "m7za3naJiFyy"
      }
    },
    {
      "cell_type": "markdown",
      "source": [
        "##**2.2. From whom is the visualization you want to make?**"
      ],
      "metadata": {
        "id": "uIIFpLcWiPBz"
      }
    },
    {
      "cell_type": "markdown",
      "source": [
        "#**3. Examples**"
      ],
      "metadata": {
        "id": "jUyhWuTCicFr"
      }
    },
    {
      "cell_type": "markdown",
      "source": [
        "##**3.1. Show me two examples of visualizations you think they will wok with your dataset**"
      ],
      "metadata": {
        "id": "MkfEac3TigR6"
      }
    },
    {
      "cell_type": "markdown",
      "source": [],
      "metadata": {
        "id": "4NQpkCn2isTr"
      }
    }
  ]
}