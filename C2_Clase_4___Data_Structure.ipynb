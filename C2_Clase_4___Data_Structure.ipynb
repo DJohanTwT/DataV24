{
  "nbformat": 4,
  "nbformat_minor": 0,
  "metadata": {
    "colab": {
      "provenance": [],
      "authorship_tag": "ABX9TyM7k9BJ0zsmVhxdVTmTPZwZ",
      "include_colab_link": true
    },
    "kernelspec": {
      "name": "python3",
      "display_name": "Python 3"
    },
    "language_info": {
      "name": "python"
    }
  },
  "cells": [
    {
      "cell_type": "markdown",
      "metadata": {
        "id": "view-in-github",
        "colab_type": "text"
      },
      "source": [
        "<a href=\"https://colab.research.google.com/github/DJohanTwT/DataV24/blob/main/C2_Clase_4___Data_Structure.ipynb\" target=\"_parent\"><img src=\"https://colab.research.google.com/assets/colab-badge.svg\" alt=\"Open In Colab\"/></a>"
      ]
    },
    {
      "cell_type": "markdown",
      "source": [
        "Guardar más de un valor"
      ],
      "metadata": {
        "id": "6N2HDjQHVGYp"
      }
    },
    {
      "cell_type": "markdown",
      "source": [
        "# **1. What is a DS**\n",
        "A variable that stores a *value sequence*.\n",
        "\n",
        "One example: List (variable que tiene una secuencia de datos que serian los nombres de una clase), arrays (is a vector), tuplets, database."
      ],
      "metadata": {
        "id": "f02Bdw_DVNpD"
      }
    },
    {
      "cell_type": "markdown",
      "source": [
        "# **2. Linear Algebra**\n",
        "(para hacer operaciones matematicas)"
      ],
      "metadata": {
        "id": "lSq2MM4gV95R"
      }
    },
    {
      "cell_type": "markdown",
      "source": [
        "## **2.1. Numpy**"
      ],
      "metadata": {
        "id": "OdQ_XYauWNYz"
      }
    },
    {
      "cell_type": "markdown",
      "source": [
        "Numpy (numerical python) is a library that perform operationes in data structures. Meaning, it does linear algebra."
      ],
      "metadata": {
        "id": "181RJ1rgWUFk"
      }
    },
    {
      "cell_type": "code",
      "source": [
        "import numpy"
      ],
      "metadata": {
        "id": "29aD-IIgW7VL"
      },
      "execution_count": 2,
      "outputs": []
    },
    {
      "cell_type": "code",
      "source": [
        "numpy.array([1,2,3])"
      ],
      "metadata": {
        "colab": {
          "base_uri": "https://localhost:8080/"
        },
        "id": "infBGSfvXDhD",
        "outputId": "3d7b742e-423a-4ecb-86b9-9b536a826d26"
      },
      "execution_count": 3,
      "outputs": [
        {
          "output_type": "execute_result",
          "data": {
            "text/plain": [
              "array([1, 2, 3])"
            ]
          },
          "metadata": {},
          "execution_count": 3
        }
      ]
    },
    {
      "cell_type": "code",
      "source": [
        "import numpy as np #Standard nickname - se le puede poner un nombre a la libreria"
      ],
      "metadata": {
        "id": "wnqbyacbXTxb"
      },
      "execution_count": 4,
      "outputs": []
    },
    {
      "cell_type": "code",
      "source": [
        "np.array([1,2,3])"
      ],
      "metadata": {
        "colab": {
          "base_uri": "https://localhost:8080/"
        },
        "id": "GrENTmB2XbfT",
        "outputId": "f986558e-b661-4c21-b142-a271b72e3cda"
      },
      "execution_count": 5,
      "outputs": [
        {
          "output_type": "execute_result",
          "data": {
            "text/plain": [
              "array([1, 2, 3])"
            ]
          },
          "metadata": {},
          "execution_count": 5
        }
      ]
    },
    {
      "cell_type": "markdown",
      "source": [
        "## **2.2. Numpy arrays - Vectors and Matrices**"
      ],
      "metadata": {
        "id": "7Jm22Tu9WjmD"
      }
    },
    {
      "cell_type": "code",
      "source": [
        "# Column vector\n",
        "a = np.array([[1],[2],[3]])  #[] Brackets, separa los rows - columnas\n",
        "print(a)\n",
        "print(a.shape) #valor.shape #shape is the dimension of the vector"
      ],
      "metadata": {
        "colab": {
          "base_uri": "https://localhost:8080/"
        },
        "id": "V_wddBoAZeRB",
        "outputId": "c762edcd-34a4-4020-ec5d-a8c731510729"
      },
      "execution_count": 6,
      "outputs": [
        {
          "output_type": "stream",
          "name": "stdout",
          "text": [
            "[[1]\n",
            " [2]\n",
            " [3]]\n",
            "(3, 1)\n"
          ]
        }
      ]
    },
    {
      "cell_type": "code",
      "execution_count": 14,
      "metadata": {
        "colab": {
          "base_uri": "https://localhost:8080/"
        },
        "id": "q3g94VBqU9rr",
        "outputId": "a0a02304-dfaa-4900-e7db-cf6355da93fc"
      },
      "outputs": [
        {
          "output_type": "stream",
          "name": "stdout",
          "text": [
            "[4 5 6]\n",
            "(3,)\n"
          ]
        }
      ],
      "source": [
        "# Row vector\n",
        "b = np.array([4,5,6]) #commas separates the columns\n",
        "print(b)\n",
        "print(b.shape)"
      ]
    },
    {
      "cell_type": "code",
      "source": [
        "# Squared Matrix\n",
        "A = np.array([[1,2,3],\n",
        "              [4,5,6],\n",
        "              [7,8,9]])\n",
        "print(A)\n",
        "print(A.shape)"
      ],
      "metadata": {
        "colab": {
          "base_uri": "https://localhost:8080/"
        },
        "id": "oVlNQgF7aQvi",
        "outputId": "b3613cec-82a4-4844-eb70-9b13fca5108f"
      },
      "execution_count": 8,
      "outputs": [
        {
          "output_type": "stream",
          "name": "stdout",
          "text": [
            "[[1 2 3]\n",
            " [4 5 6]\n",
            " [7 8 9]]\n",
            "(3, 3)\n"
          ]
        }
      ]
    },
    {
      "cell_type": "markdown",
      "source": [
        "tupple es un elemento con dos datos"
      ],
      "metadata": {
        "id": "Xy-K6T2Obh-4"
      }
    },
    {
      "cell_type": "code",
      "source": [
        "s = A.shape\n",
        "print(s) #se imprime el tuple en una linea\n",
        "\n",
        "n, m = A.shape #se imprime el tuple en dos lineas separadas usando la coma\n",
        "print('Number of rows',n)\n",
        "print('Number of columns',m)"
      ],
      "metadata": {
        "colab": {
          "base_uri": "https://localhost:8080/"
        },
        "id": "sjYC2Ct5bmfJ",
        "outputId": "734ac7e6-9b64-4e39-b459-2e8b372fe93b"
      },
      "execution_count": 9,
      "outputs": [
        {
          "output_type": "stream",
          "name": "stdout",
          "text": [
            "(3, 3)\n",
            "Number of rows 3\n",
            "Number of columns 3\n"
          ]
        }
      ]
    },
    {
      "cell_type": "code",
      "source": [
        "## WARNING!!!\n",
        "x = 2\n",
        "y = np.array([[2]])\n",
        "print(type(x)) #int - numero entero\n",
        "print(type(y)) #objeto con dimensiones - si da ese error es porque esta pidiendo el valor con brackets\n",
        "#No es lo mismo sin y con brackets"
      ],
      "metadata": {
        "colab": {
          "base_uri": "https://localhost:8080/"
        },
        "id": "qMqkx54xbUT8",
        "outputId": "3cbef05a-c64b-4355-93cd-266062dd1138"
      },
      "execution_count": 10,
      "outputs": [
        {
          "output_type": "stream",
          "name": "stdout",
          "text": [
            "<class 'int'>\n",
            "<class 'numpy.ndarray'>\n"
          ]
        }
      ]
    },
    {
      "cell_type": "markdown",
      "source": [
        "## **2.3. Slicing**\n",
        "Cortar o extraer cosas. Acceder información de los vectores."
      ],
      "metadata": {
        "id": "_ZWXr6jFYEtK"
      }
    },
    {
      "cell_type": "code",
      "source": [
        "# Extract one element\n",
        "\n",
        "print(A[0,0]) #elemento fila 1 columna 1. Extract the element in row 1 column 1\n",
        "print(a[1,0]) #Extract the element in row 2 column 1\n",
        "print(b[1]) #Extract the element in row 1 column 2"
      ],
      "metadata": {
        "colab": {
          "base_uri": "https://localhost:8080/"
        },
        "id": "0GpRgt98YRdQ",
        "outputId": "278962a2-3092-42b7-b197-3cffef66ffe6"
      },
      "execution_count": 16,
      "outputs": [
        {
          "output_type": "stream",
          "name": "stdout",
          "text": [
            "1\n",
            "2\n",
            "5\n"
          ]
        }
      ]
    },
    {
      "cell_type": "code",
      "source": [
        "# A little trick\n",
        "\n",
        "print(A[-1,-1]) #Last element | Trae el ultimo elemento que es 9.\n",
        "print(A[-2,-2]) #penultima fila y penultima columna"
      ],
      "metadata": {
        "colab": {
          "base_uri": "https://localhost:8080/"
        },
        "id": "1Vp2EiNXZNCv",
        "outputId": "195ebac8-7b01-4924-abc8-41821092f515"
      },
      "execution_count": 18,
      "outputs": [
        {
          "output_type": "stream",
          "name": "stdout",
          "text": [
            "9\n",
            "5\n"
          ]
        }
      ]
    },
    {
      "cell_type": "code",
      "source": [
        "# Extract a subset\n",
        "print(A[0:2, 1:3]) #trae desde la fila 0 a la 1 (que son 1 y 2). Trae la columna 1 a la 3 (que son 1 y 2)"
      ],
      "metadata": {
        "colab": {
          "base_uri": "https://localhost:8080/"
        },
        "id": "_kNiNUo-ZyPI",
        "outputId": "4f01a02c-6755-4a4c-fbd6-f292c5e30a09"
      },
      "execution_count": 19,
      "outputs": [
        {
          "output_type": "stream",
          "name": "stdout",
          "text": [
            "[[2 3]\n",
            " [5 6]]\n"
          ]
        }
      ]
    },
    {
      "cell_type": "code",
      "source": [
        "# Extract the whole row\n",
        "print(A[0,:])"
      ],
      "metadata": {
        "colab": {
          "base_uri": "https://localhost:8080/"
        },
        "id": "sOK2rvNXaimn",
        "outputId": "e6692ca9-f1b9-41fe-d0be-f5e8c813ae7a"
      },
      "execution_count": 20,
      "outputs": [
        {
          "output_type": "stream",
          "name": "stdout",
          "text": [
            "[1 2 3]\n"
          ]
        }
      ]
    },
    {
      "cell_type": "code",
      "source": [
        "# Extract the whole column\n",
        "print(A[:,0])"
      ],
      "metadata": {
        "colab": {
          "base_uri": "https://localhost:8080/"
        },
        "id": "9YfgdIWeazF1",
        "outputId": "275ef6f0-898b-4da4-fcad-ea8b8318ddfb"
      },
      "execution_count": 23,
      "outputs": [
        {
          "output_type": "stream",
          "name": "stdout",
          "text": [
            "[1 4 7]\n"
          ]
        }
      ]
    },
    {
      "cell_type": "markdown",
      "source": [
        "# **3. Useful Nethods**"
      ],
      "metadata": {
        "id": "LyszO_nwbQ79"
      }
    },
    {
      "cell_type": "markdown",
      "source": [
        "## **3.1. Find**\n"
      ],
      "metadata": {
        "id": "yAn_4RJ-bYeV"
      }
    },
    {
      "cell_type": "code",
      "source": [
        "# Find a value\n",
        "print(np.where(A == 5)) #Where is the value 5? En que celda o fila se encuentra el dato\n",
        "# Fila 2, Columna 2"
      ],
      "metadata": {
        "colab": {
          "base_uri": "https://localhost:8080/"
        },
        "id": "YEfe7wMcbxMO",
        "outputId": "7704d1b1-9d32-4558-b1d6-2401c4ad93a8"
      },
      "execution_count": 25,
      "outputs": [
        {
          "output_type": "stream",
          "name": "stdout",
          "text": [
            "(array([1]), array([1]))\n"
          ]
        }
      ]
    },
    {
      "cell_type": "code",
      "source": [
        "# Find a value that is not in the matrix\n",
        "print(np.where(A == 10)) #el error"
      ],
      "metadata": {
        "colab": {
          "base_uri": "https://localhost:8080/"
        },
        "id": "bEHqJ3tvcHyP",
        "outputId": "026074f5-d71b-4ab2-b1c6-8d1dc9bc44cd"
      },
      "execution_count": 26,
      "outputs": [
        {
          "output_type": "stream",
          "name": "stdout",
          "text": [
            "(array([], dtype=int64), array([], dtype=int64))\n"
          ]
        }
      ]
    },
    {
      "cell_type": "markdown",
      "source": [
        "##**3.2. Zeros and Ones**"
      ],
      "metadata": {
        "id": "hYv8FsXofPhl"
      }
    },
    {
      "cell_type": "code",
      "source": [
        "# Zeros\n",
        "\n",
        "z1 = np.zeros((2,3)) #2 filas y 3 columnas. Truco para optimizar cosas, como decirle a Python que tome un rango de columnas y filas para evitar que se trabe.\n",
        "print(z1)"
      ],
      "metadata": {
        "colab": {
          "base_uri": "https://localhost:8080/"
        },
        "id": "h0oxJA35fYGs",
        "outputId": "0d4ee5f5-48b9-4697-b630-ced4f8da7cb3"
      },
      "execution_count": 28,
      "outputs": [
        {
          "output_type": "stream",
          "name": "stdout",
          "text": [
            "[[0. 0. 0.]\n",
            " [0. 0. 0.]]\n"
          ]
        }
      ]
    },
    {
      "cell_type": "code",
      "source": [
        "o1 = np.ones((2,3)) #crea una matriz de 1\n",
        "print(o1)"
      ],
      "metadata": {
        "colab": {
          "base_uri": "https://localhost:8080/"
        },
        "id": "Ryz6ax9OgP1u",
        "outputId": "0a75350e-86f0-482c-c0ad-378c681f3723"
      },
      "execution_count": 29,
      "outputs": [
        {
          "output_type": "stream",
          "name": "stdout",
          "text": [
            "[[1. 1. 1.]\n",
            " [1. 1. 1.]]\n"
          ]
        }
      ]
    },
    {
      "cell_type": "markdown",
      "source": [
        "## **3.3. Full**"
      ],
      "metadata": {
        "id": "TUlyrkTlgaaA"
      }
    },
    {
      "cell_type": "code",
      "source": [
        "# Create an object with the same value\n",
        "print(np.full((2,3), 99))"
      ],
      "metadata": {
        "colab": {
          "base_uri": "https://localhost:8080/"
        },
        "id": "TawvjLVzgZcp",
        "outputId": "0e742b2d-48fa-40b2-d3fe-365decae4050"
      },
      "execution_count": 36,
      "outputs": [
        {
          "output_type": "stream",
          "name": "stdout",
          "text": [
            "[[99 99 99]\n",
            " [99 99 99]]\n"
          ]
        }
      ]
    },
    {
      "cell_type": "markdown",
      "source": [
        "##**3.4. Arange**"
      ],
      "metadata": {
        "id": "EzdAnUWehKOu"
      }
    },
    {
      "cell_type": "code",
      "source": [
        "# Create a value squence\n",
        "\n",
        "print(np.arange(start = 0, stop = 10, step = 2)) #desde 0 hasta 9 de dos en dos\n",
        "print(np.arange(start = 0, stop = 10, step = 1)) #desde 0 hasta 9 de 1 en 1\n",
        "print(np.arange(start = 0, stop = 5.5, step = 0.5)) #desde 0 hasta 5.5 de 0.5 en 0.5\n"
      ],
      "metadata": {
        "colab": {
          "base_uri": "https://localhost:8080/"
        },
        "id": "7udfkSVlhF0I",
        "outputId": "fac1a8dc-8cb6-48a2-bcf1-e75eb4134d15"
      },
      "execution_count": 40,
      "outputs": [
        {
          "output_type": "stream",
          "name": "stdout",
          "text": [
            "[0 2 4 6 8]\n",
            "[0 1 2 3 4 5 6 7 8 9]\n",
            "[0.  0.5 1.  1.5 2.  2.5 3.  3.5 4.  4.5 5. ]\n"
          ]
        }
      ]
    }
  ]
}