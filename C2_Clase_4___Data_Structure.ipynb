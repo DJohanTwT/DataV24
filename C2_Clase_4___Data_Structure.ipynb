{
  "nbformat": 4,
  "nbformat_minor": 0,
  "metadata": {
    "colab": {
      "provenance": [],
      "authorship_tag": "ABX9TyM/U9tjj62WuHuXTeLI3Qai",
      "include_colab_link": true
    },
    "kernelspec": {
      "name": "python3",
      "display_name": "Python 3"
    },
    "language_info": {
      "name": "python"
    }
  },
  "cells": [
    {
      "cell_type": "markdown",
      "metadata": {
        "id": "view-in-github",
        "colab_type": "text"
      },
      "source": [
        "<a href=\"https://colab.research.google.com/github/DJohanTwT/DataV24/blob/main/C2_Clase_4___Data_Structure.ipynb\" target=\"_parent\"><img src=\"https://colab.research.google.com/assets/colab-badge.svg\" alt=\"Open In Colab\"/></a>"
      ]
    },
    {
      "cell_type": "markdown",
      "source": [
        "Guardar más de un valor"
      ],
      "metadata": {
        "id": "6N2HDjQHVGYp"
      }
    },
    {
      "cell_type": "markdown",
      "source": [
        "# **1. What is a DS**\n",
        "A variable that stores a *value sequence*.\n",
        "\n",
        "One example: List (variable que tiene una secuencia de datos que serian los nombres de una clase), arrays (is a vector), tuplets, database."
      ],
      "metadata": {
        "id": "f02Bdw_DVNpD"
      }
    },
    {
      "cell_type": "markdown",
      "source": [
        "# **2. Linear Algebra**\n",
        "(para hacer operaciones matematicas)"
      ],
      "metadata": {
        "id": "lSq2MM4gV95R"
      }
    },
    {
      "cell_type": "markdown",
      "source": [
        "## **2.1. Numpy**"
      ],
      "metadata": {
        "id": "OdQ_XYauWNYz"
      }
    },
    {
      "cell_type": "markdown",
      "source": [
        "Numpy (numerical python) is a library that perform operationes in data structures. Meaning, it does linear algebra."
      ],
      "metadata": {
        "id": "181RJ1rgWUFk"
      }
    },
    {
      "cell_type": "code",
      "source": [
        "import numpy"
      ],
      "metadata": {
        "id": "29aD-IIgW7VL"
      },
      "execution_count": 1,
      "outputs": []
    },
    {
      "cell_type": "code",
      "source": [
        "numpy.array([1,2,3])"
      ],
      "metadata": {
        "colab": {
          "base_uri": "https://localhost:8080/",
          "height": 0
        },
        "id": "infBGSfvXDhD",
        "outputId": "3822551a-6c8c-415d-83d6-ccb05d002fbc"
      },
      "execution_count": 2,
      "outputs": [
        {
          "output_type": "execute_result",
          "data": {
            "text/plain": [
              "array([1, 2, 3])"
            ]
          },
          "metadata": {},
          "execution_count": 2
        }
      ]
    },
    {
      "cell_type": "code",
      "source": [
        "import numpy as np #Standard nickname - se le puede poner un nombre a la libreria"
      ],
      "metadata": {
        "id": "wnqbyacbXTxb"
      },
      "execution_count": 4,
      "outputs": []
    },
    {
      "cell_type": "code",
      "source": [
        "np.array([1,2,3])"
      ],
      "metadata": {
        "colab": {
          "base_uri": "https://localhost:8080/",
          "height": 0
        },
        "id": "GrENTmB2XbfT",
        "outputId": "b3375d47-1172-45e6-adaa-6b7fd3a57e8b"
      },
      "execution_count": 5,
      "outputs": [
        {
          "output_type": "execute_result",
          "data": {
            "text/plain": [
              "array([1, 2, 3])"
            ]
          },
          "metadata": {},
          "execution_count": 5
        }
      ]
    },
    {
      "cell_type": "markdown",
      "source": [
        "## **2.2. Numpy arrays - Vectors and Matrices**"
      ],
      "metadata": {
        "id": "7Jm22Tu9WjmD"
      }
    },
    {
      "cell_type": "code",
      "source": [
        "# Column vector\n",
        "a = np.array([[1],[2],[3]])  #[] Brackets, separa los rows - columnas\n",
        "print(a)\n",
        "print(a.shape) #valor.shape #shape is the dimension of the vector"
      ],
      "metadata": {
        "colab": {
          "base_uri": "https://localhost:8080/",
          "height": 0
        },
        "id": "V_wddBoAZeRB",
        "outputId": "eb914fbc-5dcb-4ea4-e87f-d3db45d2d61b"
      },
      "execution_count": 16,
      "outputs": [
        {
          "output_type": "stream",
          "name": "stdout",
          "text": [
            "[[1]\n",
            " [2]\n",
            " [3]]\n",
            "(3, 1)\n"
          ]
        }
      ]
    },
    {
      "cell_type": "code",
      "execution_count": 18,
      "metadata": {
        "colab": {
          "base_uri": "https://localhost:8080/",
          "height": 0
        },
        "id": "q3g94VBqU9rr",
        "outputId": "3d3e518c-6a24-4531-992b-e40d0b22d8d5"
      },
      "outputs": [
        {
          "output_type": "stream",
          "name": "stdout",
          "text": [
            "[4 5 6]\n",
            "(3,)\n"
          ]
        }
      ],
      "source": [
        "# Row vector\n",
        "b = np.array([4,5,6]) #commas separates the columns\n",
        "print(b)\n",
        "print(b.shape)"
      ]
    },
    {
      "cell_type": "code",
      "source": [
        "# Squared Matrix\n",
        "A = np.array([[1,2,3],\n",
        "              [4,5,6],\n",
        "              [7,8,9]])\n",
        "print(A)\n",
        "print(A.shape)"
      ],
      "metadata": {
        "colab": {
          "base_uri": "https://localhost:8080/",
          "height": 0
        },
        "id": "oVlNQgF7aQvi",
        "outputId": "1c012071-47a0-4ef3-b2fd-1e0f994ae77f"
      },
      "execution_count": 19,
      "outputs": [
        {
          "output_type": "stream",
          "name": "stdout",
          "text": [
            "[[1 2 3]\n",
            " [4 5 6]\n",
            " [7 8 9]]\n",
            "(3, 3)\n"
          ]
        }
      ]
    },
    {
      "cell_type": "markdown",
      "source": [
        "tupple es un elemento con dos datos"
      ],
      "metadata": {
        "id": "Xy-K6T2Obh-4"
      }
    },
    {
      "cell_type": "code",
      "source": [
        "s = A.shape\n",
        "print(s) #se imprime el tuple en una linea\n",
        "\n",
        "n, m = A.shape #se imprime el tuple en dos lineas separadas usando la coma\n",
        "print('Number of rows',n)\n",
        "print('Number of columns',m)"
      ],
      "metadata": {
        "colab": {
          "base_uri": "https://localhost:8080/",
          "height": 0
        },
        "id": "sjYC2Ct5bmfJ",
        "outputId": "41c74a18-5320-4c59-a022-9ab674a6ee2a"
      },
      "execution_count": 22,
      "outputs": [
        {
          "output_type": "stream",
          "name": "stdout",
          "text": [
            "(3, 3)\n",
            "Number of rows 3\n",
            "Number of columns 3\n"
          ]
        }
      ]
    },
    {
      "cell_type": "code",
      "source": [
        "## WARNING!!!\n",
        "x = 2\n",
        "y = np.array([[2]])\n",
        "print(type(x)) #int - numero entero\n",
        "print(type(y)) #objeto con dimensiones - si da ese error es porque esta pidiendo el valor con brackets\n",
        "#No es lo mismo sin y con brackets"
      ],
      "metadata": {
        "colab": {
          "base_uri": "https://localhost:8080/"
        },
        "id": "qMqkx54xbUT8",
        "outputId": "1a95b570-d7c9-4715-bc78-415fe0705a9c"
      },
      "execution_count": 24,
      "outputs": [
        {
          "output_type": "stream",
          "name": "stdout",
          "text": [
            "<class 'int'>\n",
            "<class 'numpy.ndarray'>\n"
          ]
        }
      ]
    },
    {
      "cell_type": "markdown",
      "source": [],
      "metadata": {
        "id": "FvfoMQa3cEuY"
      }
    }
  ]
}