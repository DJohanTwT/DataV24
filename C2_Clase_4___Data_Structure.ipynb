{
  "nbformat": 4,
  "nbformat_minor": 0,
  "metadata": {
    "colab": {
      "provenance": [],
      "authorship_tag": "ABX9TyM/Zz2xh228o6jmmK6bmecj",
      "include_colab_link": true
    },
    "kernelspec": {
      "name": "python3",
      "display_name": "Python 3"
    },
    "language_info": {
      "name": "python"
    }
  },
  "cells": [
    {
      "cell_type": "markdown",
      "metadata": {
        "id": "view-in-github",
        "colab_type": "text"
      },
      "source": [
        "<a href=\"https://colab.research.google.com/github/DJohanTwT/DataV24/blob/main/C2_Clase_4___Data_Structure.ipynb\" target=\"_parent\"><img src=\"https://colab.research.google.com/assets/colab-badge.svg\" alt=\"Open In Colab\"/></a>"
      ]
    },
    {
      "cell_type": "markdown",
      "source": [
        "Guardar más de un valor"
      ],
      "metadata": {
        "id": "6N2HDjQHVGYp"
      }
    },
    {
      "cell_type": "markdown",
      "source": [
        "# **1. What is a DS**\n",
        "A variable that stores a *value sequence*.\n",
        "\n",
        "One example: List (variable que tiene una secuencia de datos que serian los nombres de una clase), arrays (is a vector), tuplets, database."
      ],
      "metadata": {
        "id": "f02Bdw_DVNpD"
      }
    },
    {
      "cell_type": "markdown",
      "source": [
        "# **2. Linear Algebra**\n",
        "(para hacer operaciones matematicas)"
      ],
      "metadata": {
        "id": "lSq2MM4gV95R"
      }
    },
    {
      "cell_type": "markdown",
      "source": [
        "## **2.1. Numpy**"
      ],
      "metadata": {
        "id": "OdQ_XYauWNYz"
      }
    },
    {
      "cell_type": "markdown",
      "source": [
        "Numpy (numerical python) is a library that perform operationes in data structures. Meaning, it does linear algebra."
      ],
      "metadata": {
        "id": "181RJ1rgWUFk"
      }
    },
    {
      "cell_type": "code",
      "source": [
        "import numpy"
      ],
      "metadata": {
        "id": "29aD-IIgW7VL"
      },
      "execution_count": 1,
      "outputs": []
    },
    {
      "cell_type": "code",
      "source": [
        "numpy.array([1,2,3])"
      ],
      "metadata": {
        "colab": {
          "base_uri": "https://localhost:8080/"
        },
        "id": "infBGSfvXDhD",
        "outputId": "3822551a-6c8c-415d-83d6-ccb05d002fbc"
      },
      "execution_count": 2,
      "outputs": [
        {
          "output_type": "execute_result",
          "data": {
            "text/plain": [
              "array([1, 2, 3])"
            ]
          },
          "metadata": {},
          "execution_count": 2
        }
      ]
    },
    {
      "cell_type": "code",
      "source": [
        "import numpy as np #Standard nickname - se le puede poner un nombre a la libreria"
      ],
      "metadata": {
        "id": "wnqbyacbXTxb"
      },
      "execution_count": 4,
      "outputs": []
    },
    {
      "cell_type": "code",
      "source": [
        "np.array([1,2,3])"
      ],
      "metadata": {
        "colab": {
          "base_uri": "https://localhost:8080/"
        },
        "id": "GrENTmB2XbfT",
        "outputId": "b3375d47-1172-45e6-adaa-6b7fd3a57e8b"
      },
      "execution_count": 5,
      "outputs": [
        {
          "output_type": "execute_result",
          "data": {
            "text/plain": [
              "array([1, 2, 3])"
            ]
          },
          "metadata": {},
          "execution_count": 5
        }
      ]
    },
    {
      "cell_type": "markdown",
      "source": [],
      "metadata": {
        "id": "7Jm22Tu9WjmD"
      }
    },
    {
      "cell_type": "code",
      "execution_count": null,
      "metadata": {
        "id": "q3g94VBqU9rr"
      },
      "outputs": [],
      "source": []
    }
  ]
}