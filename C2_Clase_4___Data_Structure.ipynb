{
  "nbformat": 4,
  "nbformat_minor": 0,
  "metadata": {
    "colab": {
      "provenance": [],
      "authorship_tag": "ABX9TyPHcDfPmrUO2KZlZqDVBMCh",
      "include_colab_link": true
    },
    "kernelspec": {
      "name": "python3",
      "display_name": "Python 3"
    },
    "language_info": {
      "name": "python"
    }
  },
  "cells": [
    {
      "cell_type": "markdown",
      "metadata": {
        "id": "view-in-github",
        "colab_type": "text"
      },
      "source": [
        "<a href=\"https://colab.research.google.com/github/DJohanTwT/DataV24/blob/main/C2_Clase_4___Data_Structure.ipynb\" target=\"_parent\"><img src=\"https://colab.research.google.com/assets/colab-badge.svg\" alt=\"Open In Colab\"/></a>"
      ]
    },
    {
      "cell_type": "markdown",
      "source": [
        "Guardar más de un valor"
      ],
      "metadata": {
        "id": "6N2HDjQHVGYp"
      }
    },
    {
      "cell_type": "markdown",
      "source": [
        "# **1. What is a DS**\n",
        "A variable that stores a *value sequence*.\n",
        "\n",
        "One example: List (variable que tiene una secuencia de datos que serian los nombres de una clase), arrays (is a vector), tuplets, database."
      ],
      "metadata": {
        "id": "f02Bdw_DVNpD"
      }
    },
    {
      "cell_type": "markdown",
      "source": [
        "# **2. Linear Algebra**\n",
        "(para hacer operaciones matematicas)"
      ],
      "metadata": {
        "id": "lSq2MM4gV95R"
      }
    },
    {
      "cell_type": "markdown",
      "source": [
        "## **2.1. Numpy**"
      ],
      "metadata": {
        "id": "OdQ_XYauWNYz"
      }
    },
    {
      "cell_type": "markdown",
      "source": [
        "Numpy (numerical python) is a library that perform operationes in data structures. Meaning, it does linear algebra."
      ],
      "metadata": {
        "id": "181RJ1rgWUFk"
      }
    },
    {
      "cell_type": "code",
      "source": [
        "import numpy"
      ],
      "metadata": {
        "id": "29aD-IIgW7VL"
      },
      "execution_count": 2,
      "outputs": []
    },
    {
      "cell_type": "code",
      "source": [
        "numpy.array([1,2,3])"
      ],
      "metadata": {
        "colab": {
          "base_uri": "https://localhost:8080/"
        },
        "id": "infBGSfvXDhD",
        "outputId": "0d91e370-ceeb-45e6-8c88-060fb9a3d004"
      },
      "execution_count": 3,
      "outputs": [
        {
          "output_type": "execute_result",
          "data": {
            "text/plain": [
              "array([1, 2, 3])"
            ]
          },
          "metadata": {},
          "execution_count": 3
        }
      ]
    },
    {
      "cell_type": "code",
      "source": [
        "import numpy as np #Standard nickname - se le puede poner un nombre a la libreria"
      ],
      "metadata": {
        "id": "wnqbyacbXTxb"
      },
      "execution_count": 4,
      "outputs": []
    },
    {
      "cell_type": "code",
      "source": [
        "np.array([1,2,3])"
      ],
      "metadata": {
        "colab": {
          "base_uri": "https://localhost:8080/"
        },
        "id": "GrENTmB2XbfT",
        "outputId": "93056e31-6bdf-4087-a422-39f4c2293dce"
      },
      "execution_count": 5,
      "outputs": [
        {
          "output_type": "execute_result",
          "data": {
            "text/plain": [
              "array([1, 2, 3])"
            ]
          },
          "metadata": {},
          "execution_count": 5
        }
      ]
    },
    {
      "cell_type": "markdown",
      "source": [
        "## **2.2. Numpy arrays - Vectors and Matrices**"
      ],
      "metadata": {
        "id": "7Jm22Tu9WjmD"
      }
    },
    {
      "cell_type": "code",
      "source": [
        "# Column vector\n",
        "a = np.array([[1],[2],[3]])  #[] Brackets, separa los rows - columnas\n",
        "print(a)\n",
        "print(a.shape) #valor.shape #shape is the dimension of the vector"
      ],
      "metadata": {
        "colab": {
          "base_uri": "https://localhost:8080/"
        },
        "id": "V_wddBoAZeRB",
        "outputId": "c3dfaabd-020d-46c0-c4ea-28b9ed7625e3"
      },
      "execution_count": 6,
      "outputs": [
        {
          "output_type": "stream",
          "name": "stdout",
          "text": [
            "[[1]\n",
            " [2]\n",
            " [3]]\n",
            "(3, 1)\n"
          ]
        }
      ]
    },
    {
      "cell_type": "code",
      "execution_count": 7,
      "metadata": {
        "colab": {
          "base_uri": "https://localhost:8080/"
        },
        "id": "q3g94VBqU9rr",
        "outputId": "483fa25f-d31a-4112-f8f3-c0ab01d23856"
      },
      "outputs": [
        {
          "output_type": "stream",
          "name": "stdout",
          "text": [
            "[4 5 6]\n",
            "(3,)\n"
          ]
        }
      ],
      "source": [
        "# Row vector\n",
        "b = np.array([4,5,6]) #commas separates the columns\n",
        "print(b)\n",
        "print(b.shape)"
      ]
    },
    {
      "cell_type": "code",
      "source": [
        "# Squared Matrix\n",
        "A = np.array([[1,2,3],\n",
        "              [4,5,6],\n",
        "              [7,8,9]])\n",
        "print(A)\n",
        "print(A.shape)"
      ],
      "metadata": {
        "colab": {
          "base_uri": "https://localhost:8080/"
        },
        "id": "oVlNQgF7aQvi",
        "outputId": "b0f7fbc1-c915-4bfb-ac97-c14a0de26a07"
      },
      "execution_count": 8,
      "outputs": [
        {
          "output_type": "stream",
          "name": "stdout",
          "text": [
            "[[1 2 3]\n",
            " [4 5 6]\n",
            " [7 8 9]]\n",
            "(3, 3)\n"
          ]
        }
      ]
    },
    {
      "cell_type": "markdown",
      "source": [
        "tupple es un elemento con dos datos"
      ],
      "metadata": {
        "id": "Xy-K6T2Obh-4"
      }
    },
    {
      "cell_type": "code",
      "source": [
        "s = A.shape\n",
        "print(s) #se imprime el tuple en una linea\n",
        "\n",
        "n, m = A.shape #se imprime el tuple en dos lineas separadas usando la coma\n",
        "print('Number of rows',n)\n",
        "print('Number of columns',m)"
      ],
      "metadata": {
        "colab": {
          "base_uri": "https://localhost:8080/"
        },
        "id": "sjYC2Ct5bmfJ",
        "outputId": "6ea6e2db-e890-49e6-a9f0-f716658673dd"
      },
      "execution_count": 9,
      "outputs": [
        {
          "output_type": "stream",
          "name": "stdout",
          "text": [
            "(3, 3)\n",
            "Number of rows 3\n",
            "Number of columns 3\n"
          ]
        }
      ]
    },
    {
      "cell_type": "code",
      "source": [
        "## WARNING!!!\n",
        "x = 2\n",
        "y = np.array([[2]])\n",
        "print(type(x)) #int - numero entero\n",
        "print(type(y)) #objeto con dimensiones - si da ese error es porque esta pidiendo el valor con brackets\n",
        "#No es lo mismo sin y con brackets"
      ],
      "metadata": {
        "colab": {
          "base_uri": "https://localhost:8080/"
        },
        "id": "qMqkx54xbUT8",
        "outputId": "4cff79e6-e60f-4c3f-9aae-8b4fe76fd5c8"
      },
      "execution_count": 10,
      "outputs": [
        {
          "output_type": "stream",
          "name": "stdout",
          "text": [
            "<class 'int'>\n",
            "<class 'numpy.ndarray'>\n"
          ]
        }
      ]
    },
    {
      "cell_type": "markdown",
      "source": [
        "## **2.3. Slicing**\n",
        "Cortar o extraer cosas. Acceder información de los vectores."
      ],
      "metadata": {
        "id": "_ZWXr6jFYEtK"
      }
    },
    {
      "cell_type": "code",
      "source": [
        "# Extract one element\n",
        "\n",
        "print(A[0,0]) #elemento fila 1 columna 1. Extract the element in row 1 column 1\n",
        "print(a[1,0]) #Extract the element in row 2 column 1\n",
        "print(b[1]) #Extract the element in row 1 column 2"
      ],
      "metadata": {
        "colab": {
          "base_uri": "https://localhost:8080/"
        },
        "id": "0GpRgt98YRdQ",
        "outputId": "8b30244e-e3cd-48d0-c69a-60c29a338527"
      },
      "execution_count": 11,
      "outputs": [
        {
          "output_type": "stream",
          "name": "stdout",
          "text": [
            "1\n",
            "2\n",
            "5\n"
          ]
        }
      ]
    },
    {
      "cell_type": "code",
      "source": [
        "# A little trick\n",
        "\n",
        "print(A[-1,-1]) #Last element | Trae el ultimo elemento que es 9.\n",
        "print(A[-2,-2]) #penultima fila y penultima columna"
      ],
      "metadata": {
        "colab": {
          "base_uri": "https://localhost:8080/"
        },
        "id": "1Vp2EiNXZNCv",
        "outputId": "dd7e42e1-8037-4551-f99e-bb0d3b5072c3"
      },
      "execution_count": 12,
      "outputs": [
        {
          "output_type": "stream",
          "name": "stdout",
          "text": [
            "9\n",
            "5\n"
          ]
        }
      ]
    },
    {
      "cell_type": "code",
      "source": [
        "# Extract a subset\n",
        "print(A[0:2, 1:3]) #trae desde la fila 0 a la 1 (que son 1 y 2). Trae la columna 1 a la 3 (que son 1 y 2)"
      ],
      "metadata": {
        "colab": {
          "base_uri": "https://localhost:8080/"
        },
        "id": "_kNiNUo-ZyPI",
        "outputId": "1d37a770-29a6-4498-db4b-123f21bfa085"
      },
      "execution_count": 13,
      "outputs": [
        {
          "output_type": "stream",
          "name": "stdout",
          "text": [
            "[[2 3]\n",
            " [5 6]]\n"
          ]
        }
      ]
    },
    {
      "cell_type": "code",
      "source": [
        "# Extract the whole row\n",
        "print(A[0,:])"
      ],
      "metadata": {
        "colab": {
          "base_uri": "https://localhost:8080/"
        },
        "id": "sOK2rvNXaimn",
        "outputId": "484ed5bd-58b7-473c-9670-a63517f0c7ca"
      },
      "execution_count": 14,
      "outputs": [
        {
          "output_type": "stream",
          "name": "stdout",
          "text": [
            "[1 2 3]\n"
          ]
        }
      ]
    },
    {
      "cell_type": "code",
      "source": [
        "# Extract the whole column\n",
        "print(A[:,0])"
      ],
      "metadata": {
        "colab": {
          "base_uri": "https://localhost:8080/"
        },
        "id": "9YfgdIWeazF1",
        "outputId": "54b1f28e-fb8c-45c6-c550-7c756372a1dc"
      },
      "execution_count": 15,
      "outputs": [
        {
          "output_type": "stream",
          "name": "stdout",
          "text": [
            "[1 4 7]\n"
          ]
        }
      ]
    },
    {
      "cell_type": "markdown",
      "source": [
        "# **3. Useful Nethods**"
      ],
      "metadata": {
        "id": "LyszO_nwbQ79"
      }
    },
    {
      "cell_type": "markdown",
      "source": [
        "## **3.1. Find**\n"
      ],
      "metadata": {
        "id": "yAn_4RJ-bYeV"
      }
    },
    {
      "cell_type": "code",
      "source": [
        "# Find a value\n",
        "print(np.where(A == 5)) #Where is the value 5? En que celda o fila se encuentra el dato\n",
        "# Fila 2, Columna 2"
      ],
      "metadata": {
        "colab": {
          "base_uri": "https://localhost:8080/"
        },
        "id": "YEfe7wMcbxMO",
        "outputId": "468005e7-1299-400e-efc1-812e3ace7895"
      },
      "execution_count": 16,
      "outputs": [
        {
          "output_type": "stream",
          "name": "stdout",
          "text": [
            "(array([1]), array([1]))\n"
          ]
        }
      ]
    },
    {
      "cell_type": "code",
      "source": [
        "# Find a value that is not in the matrix\n",
        "print(np.where(A == 10)) #el error"
      ],
      "metadata": {
        "colab": {
          "base_uri": "https://localhost:8080/"
        },
        "id": "bEHqJ3tvcHyP",
        "outputId": "957ee119-3e3f-450d-c5bf-2eb75cb7eaa6"
      },
      "execution_count": 17,
      "outputs": [
        {
          "output_type": "stream",
          "name": "stdout",
          "text": [
            "(array([], dtype=int64), array([], dtype=int64))\n"
          ]
        }
      ]
    },
    {
      "cell_type": "markdown",
      "source": [
        "##**3.2. Zeros and Ones**"
      ],
      "metadata": {
        "id": "hYv8FsXofPhl"
      }
    },
    {
      "cell_type": "code",
      "source": [
        "# Zeros\n",
        "\n",
        "z1 = np.zeros((2,3)) #2 filas y 3 columnas. Truco para optimizar cosas, como decirle a Python que tome un rango de columnas y filas para evitar que se trabe.\n",
        "print(z1)"
      ],
      "metadata": {
        "colab": {
          "base_uri": "https://localhost:8080/"
        },
        "id": "h0oxJA35fYGs",
        "outputId": "458651ab-5344-4892-80e0-d6f98e49d643"
      },
      "execution_count": 18,
      "outputs": [
        {
          "output_type": "stream",
          "name": "stdout",
          "text": [
            "[[0. 0. 0.]\n",
            " [0. 0. 0.]]\n"
          ]
        }
      ]
    },
    {
      "cell_type": "code",
      "source": [
        "o1 = np.ones((2,3)) #crea una matriz de 1\n",
        "print(o1)"
      ],
      "metadata": {
        "colab": {
          "base_uri": "https://localhost:8080/"
        },
        "id": "Ryz6ax9OgP1u",
        "outputId": "9d9d1e0e-cdbe-49c7-f65c-deea4feb5e28"
      },
      "execution_count": 19,
      "outputs": [
        {
          "output_type": "stream",
          "name": "stdout",
          "text": [
            "[[1. 1. 1.]\n",
            " [1. 1. 1.]]\n"
          ]
        }
      ]
    },
    {
      "cell_type": "markdown",
      "source": [
        "## **3.3. Full**"
      ],
      "metadata": {
        "id": "TUlyrkTlgaaA"
      }
    },
    {
      "cell_type": "code",
      "source": [
        "# Create an object with the same value\n",
        "print(np.full((2,3), 99))"
      ],
      "metadata": {
        "colab": {
          "base_uri": "https://localhost:8080/"
        },
        "id": "TawvjLVzgZcp",
        "outputId": "f3cc8a95-a51a-4a4b-ffc6-63daec8753ad"
      },
      "execution_count": 20,
      "outputs": [
        {
          "output_type": "stream",
          "name": "stdout",
          "text": [
            "[[99 99 99]\n",
            " [99 99 99]]\n"
          ]
        }
      ]
    },
    {
      "cell_type": "markdown",
      "source": [
        "##**3.4. Arange**"
      ],
      "metadata": {
        "id": "EzdAnUWehKOu"
      }
    },
    {
      "cell_type": "code",
      "source": [
        "# Create a value squence\n",
        "\n",
        "print(np.arange(start = 0, stop = 10, step = 2)) #desde 0 hasta 9 de dos en dos\n",
        "print(np.arange(start = 0, stop = 10, step = 1)) #desde 0 hasta 9 de 1 en 1\n",
        "print(np.arange(start = 0, stop = 5.5, step = 0.5)) #desde 0 hasta 5.5 de 0.5 en 0.5\n"
      ],
      "metadata": {
        "colab": {
          "base_uri": "https://localhost:8080/"
        },
        "id": "7udfkSVlhF0I",
        "outputId": "6eb05272-7f87-45fa-eb1b-47d23ea63893"
      },
      "execution_count": 21,
      "outputs": [
        {
          "output_type": "stream",
          "name": "stdout",
          "text": [
            "[0 2 4 6 8]\n",
            "[0 1 2 3 4 5 6 7 8 9]\n",
            "[0.  0.5 1.  1.5 2.  2.5 3.  3.5 4.  4.5 5. ]\n"
          ]
        }
      ]
    },
    {
      "cell_type": "markdown",
      "source": [
        "##**3.5. Linear Space**"
      ],
      "metadata": {
        "id": "1OLoRtyBeW_i"
      }
    },
    {
      "cell_type": "code",
      "source": [
        "np.linspace(start = 0, stop = 10, num = 5) #5 numeros donde la distacia sea siempre la misma. por eso va de 2.5 en 2.5 desde el 0 hasta el 10\n",
        "np.linspace(start = 0, stop = 10, num = 7) #7 numeros donde la distacia sea siempre la misma. por eso va de 1.75 en 1.75 desde el 0 hasta el 10\n",
        "#Espacio lineal, donde todos los puntos estan a la misma distancia"
      ],
      "metadata": {
        "colab": {
          "base_uri": "https://localhost:8080/"
        },
        "id": "5qLGdudQecN4",
        "outputId": "a48daabc-603a-4d66-dbe4-04ab1d8b7aae"
      },
      "execution_count": 26,
      "outputs": [
        {
          "output_type": "execute_result",
          "data": {
            "text/plain": [
              "array([ 0.        ,  1.66666667,  3.33333333,  5.        ,  6.66666667,\n",
              "        8.33333333, 10.        ])"
            ]
          },
          "metadata": {},
          "execution_count": 26
        }
      ]
    },
    {
      "cell_type": "markdown",
      "source": [
        "# **4. Random numbers**"
      ],
      "metadata": {
        "id": "vOitMY4RfO5e"
      }
    },
    {
      "cell_type": "markdown",
      "source": [
        "## **4.1. Uniform distribution [0,1)**"
      ],
      "metadata": {
        "id": "tuXJuowFfUNs"
      }
    },
    {
      "cell_type": "code",
      "source": [
        "# A random number\n",
        "np.random.rand() #genera un numero aleatorio entre 0 y 1"
      ],
      "metadata": {
        "colab": {
          "base_uri": "https://localhost:8080/"
        },
        "id": "RIM4-ShnfmL0",
        "outputId": "4c4662f6-a483-4602-a0a6-28302cac5b03"
      },
      "execution_count": 30,
      "outputs": [
        {
          "output_type": "execute_result",
          "data": {
            "text/plain": [
              "0.2579964197917174"
            ]
          },
          "metadata": {},
          "execution_count": 30
        }
      ]
    },
    {
      "cell_type": "code",
      "source": [
        "# A matrix or vector\n",
        "print(np.random.rand(3,2)) #genera una matriz de 3 filas y 2 columnas con numeros aleatorios"
      ],
      "metadata": {
        "colab": {
          "base_uri": "https://localhost:8080/"
        },
        "id": "BPk23DDXg_mp",
        "outputId": "ee9f3d6b-7767-4978-e390-113df2719be3"
      },
      "execution_count": 32,
      "outputs": [
        {
          "output_type": "stream",
          "name": "stdout",
          "text": [
            "[[0.04593949 0.5161922 ]\n",
            " [0.99691623 0.14905377]\n",
            " [0.01115759 0.74604049]]\n"
          ]
        }
      ]
    },
    {
      "cell_type": "code",
      "source": [
        "### Example 1 - Toin coss\n",
        "\n",
        "if np.random.rand() > 0.5:\n",
        "  print('Heads')\n",
        "else:\n",
        "  print('Tails')"
      ],
      "metadata": {
        "colab": {
          "base_uri": "https://localhost:8080/"
        },
        "id": "CFgLrjz7hQFP",
        "outputId": "37f35925-2e77-4447-ac79-6bdd7fab1308"
      },
      "execution_count": 36,
      "outputs": [
        {
          "output_type": "stream",
          "name": "stdout",
          "text": [
            "Tails\n"
          ]
        }
      ]
    },
    {
      "cell_type": "code",
      "source": [
        "### Example 2 - Three options\n",
        "\n",
        "toss = np.random.rand()\n",
        "print(toss)\n",
        "\n",
        "if toss <= 0.33:\n",
        "  print('Win')\n",
        "elif toss > 0.33 and toss <= 0.66:\n",
        "  print('Draw')\n",
        "else:\n",
        "  print('Lose')"
      ],
      "metadata": {
        "colab": {
          "base_uri": "https://localhost:8080/"
        },
        "id": "urubcJeuiOO4",
        "outputId": "d1b915ad-7a78-4205-bd7c-4dbffbeadfa3"
      },
      "execution_count": 48,
      "outputs": [
        {
          "output_type": "stream",
          "name": "stdout",
          "text": [
            "0.3741577656849623\n",
            "Draw\n"
          ]
        }
      ]
    },
    {
      "cell_type": "code",
      "source": [
        "### Example 2.1 - Three options\n",
        "\n",
        "toss = np.random.rand()\n",
        "print(toss)\n",
        "\n",
        "if toss <= 0.7:\n",
        "  print('Win')\n",
        "elif toss > 0.7 and toss <= 0.8:\n",
        "  print('Draw')\n",
        "else:\n",
        "  print('Lose')"
      ],
      "metadata": {
        "colab": {
          "base_uri": "https://localhost:8080/"
        },
        "id": "xusgiWhzjtkm",
        "outputId": "d8ba4f5d-bea6-4bc1-8ba5-37920c9bb514"
      },
      "execution_count": 49,
      "outputs": [
        {
          "output_type": "stream",
          "name": "stdout",
          "text": [
            "0.9680523225550607\n",
            "Lose\n"
          ]
        }
      ]
    },
    {
      "cell_type": "code",
      "source": [
        "# Exercise\n",
        "## Simulate three coin tosses\n",
        "## Present the result according to this table:\n",
        "\n",
        "## 1. If the person get 3 Heads, win $100K.\n",
        "## 2. If the person get 3 Tails, lose $100K.\n",
        "## 3. In any other case, nothing happens.\n",
        "\n",
        "toss1 = np.random.rand()\n",
        "toss2 = np.random.rand()\n",
        "toss3 = np.random.rand()\n",
        "\n",
        "if toss1 > 0.5 and toss2 > 0.5 and toss3 > 0.5:\n",
        "  print('Win $100K')\n",
        "  print('You got 3 Heads')\n",
        "elif toss1 < 0.5 and toss2 < 0.5 and toss3 < 0.5:\n",
        "  print('Lose $100K')\n",
        "  print('You got 3 Tails')\n",
        "  print('Nothing happens')\n",
        "else:\n",
        "  print('Nothing happens')\n",
        "  print('You got al least 1 Tails') #Tienes al menos 1 cruz\n"
      ],
      "metadata": {
        "colab": {
          "base_uri": "https://localhost:8080/"
        },
        "id": "nlmh8nbqkhz3",
        "outputId": "d698cd49-bf4c-4014-d360-9f143d11f224"
      },
      "execution_count": 61,
      "outputs": [
        {
          "output_type": "stream",
          "name": "stdout",
          "text": [
            "Lose $100K\n",
            "You got 3 Tails\n",
            "Nothing happens\n"
          ]
        }
      ]
    },
    {
      "cell_type": "code",
      "source": [
        "# Exercise 2\n",
        "## Simulate three coin tosses\n",
        "## Present the result according to this table:\n",
        "\n",
        "## 1. If the person get 3 Heads, win $100K.\n",
        "## 2. If the person get 3 Tails, lose $100K.\n",
        "## 3. In any other case, nothing happens.\n",
        "\n",
        "toss = np.random.rand(3)\n",
        "\n",
        "if np.all(toss >= 0.5):\n",
        "  print('Win $100K')\n",
        "  print('You got 3 Heads')\n",
        "elif np.all(toss < 0.5):\n",
        "  print('Lose $100K')\n",
        "  print('You got 3 Tails')\n",
        "else:\n",
        "  print('Nothing happens')\n",
        "  print('You got al least 1 Tails') #Tienes al menos 1 cruz"
      ],
      "metadata": {
        "colab": {
          "base_uri": "https://localhost:8080/"
        },
        "id": "Uo8OkdVFn4I1",
        "outputId": "766574f6-a0d9-4d54-d3fc-e1fdbdc0734a"
      },
      "execution_count": 63,
      "outputs": [
        {
          "output_type": "stream",
          "name": "stdout",
          "text": [
            "Win $100K\n",
            "You got 3 Heads\n"
          ]
        }
      ]
    },
    {
      "cell_type": "markdown",
      "source": [
        "## **4.2. Uniform Distribution (a,b]**"
      ],
      "metadata": {
        "id": "WgOdqnGPohys"
      }
    },
    {
      "cell_type": "code",
      "source": [
        "# A random number\n",
        "np.random.uniform(low = 0, high = 10) #va del intervalo 0 a 9.99999999)\n",
        "np.random.uniform(low = -1, high = 1) #va del intervalo -1 a 1"
      ],
      "metadata": {
        "colab": {
          "base_uri": "https://localhost:8080/"
        },
        "id": "yW1bD5iEog2F",
        "outputId": "35d8766f-c5af-455d-d21d-fcd214056f77"
      },
      "execution_count": 76,
      "outputs": [
        {
          "output_type": "execute_result",
          "data": {
            "text/plain": [
              "-0.80487984537098"
            ]
          },
          "metadata": {},
          "execution_count": 76
        }
      ]
    },
    {
      "cell_type": "code",
      "source": [
        "# A matrix or vector\n",
        "print(np.random.uniform(low = -1, high = 1, size = (2,3))) #todos los numeros tiene exactamente la misma probabilidad"
      ],
      "metadata": {
        "colab": {
          "base_uri": "https://localhost:8080/"
        },
        "id": "MJbuGcaio9xr",
        "outputId": "0a8c8a10-dcea-4ed7-9db6-91cbd44b2271"
      },
      "execution_count": 79,
      "outputs": [
        {
          "output_type": "stream",
          "name": "stdout",
          "text": [
            "[[ 0.89373217  0.52132604 -0.49326892]\n",
            " [-0.89387831  0.61235144  0.44039777]]\n"
          ]
        }
      ]
    },
    {
      "cell_type": "markdown",
      "source": [
        "## **4.3. Triangular Distribution**"
      ],
      "metadata": {
        "id": "ZTnjDgeMpNWH"
      }
    },
    {
      "cell_type": "code",
      "source": [
        "np.random.triangular(left=30, mode=100, right=170)"
      ],
      "metadata": {
        "colab": {
          "base_uri": "https://localhost:8080/"
        },
        "id": "dsenhgQgtt3P",
        "outputId": "94d3ab6e-d218-4fe7-a24e-7032f380dcd0"
      },
      "execution_count": 84,
      "outputs": [
        {
          "output_type": "execute_result",
          "data": {
            "text/plain": [
              "117.96382543479268"
            ]
          },
          "metadata": {},
          "execution_count": 84
        }
      ]
    },
    {
      "cell_type": "code",
      "source": [
        "import numpy as np\n",
        "import matplotlib.pyplot as plt\n",
        "\n",
        "# Definición de los parámetros de la distribución triangular\n",
        "pesimo = 30\n",
        "normal = 100\n",
        "extraordinario = 170\n",
        "\n",
        "# Cantidad de muestras a generar\n",
        "num_muestras = 10000\n",
        "\n",
        "# Generar muestras de la distribución triangular\n",
        "ventas = np.random.triangular(pesimo, normal, extraordinario, num_muestras)\n",
        "\n",
        "# Calcular el histograma de las ventas\n",
        "plt.hist(ventas, bins=30, density=True, alpha=0.6, color='g')\n",
        "\n",
        "# Añadir líneas para los valores pesimo, normal y extraordinario\n",
        "plt.axvline(pesimo, color='red', linestyle='dashed', linewidth=1, label='Pesimo (30 ventas)')\n",
        "plt.axvline(normal, color='blue', linestyle='dashed', linewidth=1, label='Normal (100 ventas)')\n",
        "plt.axvline(extraordinario, color='orange', linestyle='dashed', linewidth=1, label='Extraordinario (170 ventas)')\n",
        "\n",
        "# Configuraciones del gráfico\n",
        "plt.title('Distribución Triangular de Ventas - Comercio Kaldivia')\n",
        "plt.xlabel('Número de Ventas')\n",
        "plt.ylabel('Densidad de Probabilidad')\n",
        "plt.legend()\n",
        "plt.grid()\n",
        "plt.show()\n",
        "\n",
        "# Calcular la probabilidad de que las ventas caigan en cada categoría\n",
        "ventas_pesimo = np.sum((ventas >= 0) & (ventas <= 30))\n",
        "ventas_normal = np.sum((ventas > 30) & (ventas <= 100))\n",
        "ventas_extraordinario = np.sum((ventas > 100) & (ventas <= 170))\n",
        "\n",
        "total_ventas = num_muestras\n",
        "\n",
        "print(f'Probabilidad de ventas pésimas (30 o menos): {ventas_pesimo / total_ventas:.2%}')\n",
        "print(f'Probabilidad de ventas normales (entre 31 y 100): {ventas_normal / total_ventas:.2%}')\n",
        "print(f'Probabilidad de ventas extraordinarias (entre 101 y 170): {ventas_extraordinario / total_ventas:.2%}')\n"
      ],
      "metadata": {
        "colab": {
          "base_uri": "https://localhost:8080/",
          "height": 524
        },
        "id": "_FCHHHfYtH4I",
        "outputId": "59052dfc-4b70-494c-f0fa-ffca566fddc3"
      },
      "execution_count": 80,
      "outputs": [
        {
          "output_type": "display_data",
          "data": {
            "text/plain": [
              "<Figure size 640x480 with 1 Axes>"
            ],
            "image/png": "[encoded data removed]"
          },
          "metadata": {}
        },
        {
          "output_type": "stream",
          "name": "stdout",
          "text": [
            "Probabilidad de ventas pésimas (30 o menos): 0.00%\n",
            "Probabilidad de ventas normales (entre 31 y 100): 49.87%\n",
            "Probabilidad de ventas extraordinarias (entre 101 y 170): 50.13%\n"
          ]
        }
      ]
    }
  ]
}