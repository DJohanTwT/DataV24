{
  "nbformat": 4,
  "nbformat_minor": 0,
  "metadata": {
    "colab": {
      "provenance": [],
      "authorship_tag": "ABX9TyPzxOt+BFyEtOd3U61Bjm1K",
      "include_colab_link": true
    },
    "kernelspec": {
      "name": "python3",
      "display_name": "Python 3"
    },
    "language_info": {
      "name": "python"
    }
  },
  "cells": [
    {
      "cell_type": "markdown",
      "metadata": {
        "id": "view-in-github",
        "colab_type": "text"
      },
      "source": [
        "<a href=\"https://colab.research.google.com/github/DJohanTwT/DataV24/blob/main/Clase_1_Basic_MD.ipynb\" target=\"_parent\"><img src=\"https://colab.research.google.com/assets/colab-badge.svg\" alt=\"Open In Colab\"/></a>"
      ]
    },
    {
      "cell_type": "markdown",
      "source": [
        "# Text Formating"
      ],
      "metadata": {
        "id": "rxCn49C0Hdb6"
      }
    },
    {
      "cell_type": "markdown",
      "source": [
        "## Bold\n",
        "\n",
        "**Johan Stewart**\n",
        "\n",
        "**texto en negrita**\n"
      ],
      "metadata": {
        "id": "ZR2FULBGHg9T"
      }
    },
    {
      "cell_type": "markdown",
      "source": [
        "## Italics\n",
        "*Johan Stewart*\n",
        "\n",
        "*texto en cursiva*"
      ],
      "metadata": {
        "id": "TDX25qjvIRER"
      }
    },
    {
      "cell_type": "markdown",
      "source": [
        "## Combine\n",
        "\n",
        "***Johan Stewart***"
      ],
      "metadata": {
        "id": "29sjqAI3IR3Q"
      }
    },
    {
      "cell_type": "markdown",
      "source": [
        "## Underline\n",
        "\n",
        "With Markdown it cannot be done... but there is solution\n",
        "\n",
        "<u> Johan </u>"
      ],
      "metadata": {
        "id": "y8pRdbRHIeJQ"
      }
    },
    {
      "cell_type": "markdown",
      "source": [
        "## Change color and font\n",
        "\n",
        "<font color = \"red\"> Johan </font>\n",
        "\n",
        "<font face = \"times new roman\"> Johan </font>\n",
        "\n",
        "<font size = \"4\"> Johan </font>\n",
        "\n",
        "<font color = \"purple\" face = \"calibri\" size = \"5\"> Johan </font>"
      ],
      "metadata": {
        "id": "hay1R2J3Jqrb"
      }
    },
    {
      "cell_type": "markdown",
      "source": [
        "# Lists"
      ],
      "metadata": {
        "id": "69-FakRhIqQs"
      }
    },
    {
      "cell_type": "markdown",
      "source": [
        "## Unordered List - Lista sin orden\n",
        "\n",
        "My gaming accesories:\n",
        "\n",
        "* Mouse\n",
        "* Headset\n",
        "* Keyboard\n",
        "* Pads\n"
      ],
      "metadata": {
        "id": "WSYp3dbaIuCL"
      }
    },
    {
      "cell_type": "markdown",
      "source": [
        "## Ordered List - Lista ordenada\n",
        "\n",
        "My top 5 videogames:\n",
        "1. Euro Truck Simulator\n",
        "2. Grand theft Auto 5\n",
        "3. WWE 2K\n",
        "4. Forza Horizon 5\n",
        "5. Metro 2033"
      ],
      "metadata": {
        "id": "YBVbNejRJqGw"
      }
    },
    {
      "cell_type": "markdown",
      "source": [
        "## Nested List - Lista anidada\n",
        "\n",
        "My favorite games:\n",
        "1. Open world\n",
        "    1.1. Grand Theft Auto\n",
        "    1.2. Metro 2033\n",
        "\n",
        "2. Simulator\n",
        "    2.1. Euro Truck Simulator\n",
        "    2.2. Forza Horizon\n",
        "\n",
        "3. Entertainment\n",
        "    3.1. WWE 2K"
      ],
      "metadata": {
        "id": "-jl-Bfq-LG1T"
      }
    },
    {
      "cell_type": "markdown",
      "source": [
        "# Insert"
      ],
      "metadata": {
        "id": "z52RrLoCL4K7"
      }
    },
    {
      "cell_type": "markdown",
      "source": [
        "## Link\n",
        "\n",
        "[La Salle](https://www.lasalle.edu.co/)\n"
      ],
      "metadata": {
        "id": "ffKgEot-L9uL"
      }
    },
    {
      "cell_type": "markdown",
      "source": [
        "## Image 1\n",
        "\n",
        "![wwe.jfif](data:image/jpeg;base64,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)"
      ],
      "metadata": {
        "id": "9ZtIQbTvMdw0"
      }
    },
    {
      "cell_type": "markdown",
      "source": [
        "## Image 2\n",
        "\n",
        "<img src=\"https://cdn.hobbyconsolas.com/sites/navi.axelspringer.es/public/media/image/2024/01/wwe-2k24-3265070.jpg?tf=3840x\" alt=\"wwe\" width=\"250\" height=\"150\">"
      ],
      "metadata": {
        "id": "vNbtrrmeNfy7"
      }
    },
    {
      "cell_type": "markdown",
      "source": [
        "## Image 3\n",
        "\n",
        "<img src=\"https://cdn.hobbyconsolas.com/sites/navi.axelspringer.es/public/media/image/2024/01/wwe-2k24-3265070.jpg?tf=3840x\" alt=\"wwe\" width=\"300px\" height=\"200px\">"
      ],
      "metadata": {
        "id": "7L3S54TJN98V"
      }
    },
    {
      "cell_type": "markdown",
      "source": [
        "## Video\n"
      ],
      "metadata": {
        "id": "E5u9xA1iPnpn"
      }
    },
    {
      "cell_type": "code",
      "source": [
        "from IPython.display import YouTubeVideo\n",
        "YouTubeVideo('BAx2GaMW2qA', width=600, heigt=400)"
      ],
      "metadata": {
        "colab": {
          "base_uri": "https://localhost:8080/",
          "height": 321
        },
        "id": "LhkLGkekUwIw",
        "outputId": "56138654-f1f0-4304-c784-bea6e89ec71e"
      },
      "execution_count": 6,
      "outputs": [
        {
          "output_type": "execute_result",
          "data": {
            "text/plain": [
              "<IPython.lib.display.YouTubeVideo at 0x789a87ed2c50>"
            ],
            "text/html": [
              "\n",
              "        <iframe\n",
              "            width=\"600\"\n",
              "            height=\"300\"\n",
              "            src=\"https://www.youtube.com/embed/BAx2GaMW2qA?heigt=400\"\n",
              "            frameborder=\"0\"\n",
              "            allowfullscreen\n",
              "            \n",
              "        ></iframe>\n",
              "        "
            ],
            "image/jpeg": "[encoded data removed]"
          },
          "metadata": {},
          "execution_count": 6
        }
      ]
    }
  ]
}