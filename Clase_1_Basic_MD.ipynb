{
  "nbformat": 4,
  "nbformat_minor": 0,
  "metadata": {
    "colab": {
      "provenance": [],
      "toc_visible": true,
      "authorship_tag": "ABX9TyMK3qLFSgZp9pfd3aU78Xng",
      "include_colab_link": true
    },
    "kernelspec": {
      "name": "python3",
      "display_name": "Python 3"
    },
    "language_info": {
      "name": "python"
    }
  },
  "cells": [
    {
      "cell_type": "markdown",
      "metadata": {
        "id": "view-in-github",
        "colab_type": "text"
      },
      "source": [
        "<a href=\"https://colab.research.google.com/github/DJohanTwT/DataV24/blob/main/Clase_1_Basic_MD.ipynb\" target=\"_parent\"><img src=\"https://colab.research.google.com/assets/colab-badge.svg\" alt=\"Open In Colab\"/></a>"
      ]
    },
    {
      "cell_type": "markdown",
      "source": [
        "# Text Formating"
      ],
      "metadata": {
        "id": "rxCn49C0Hdb6"
      }
    },
    {
      "cell_type": "markdown",
      "source": [
        "## Bold\n",
        "\n",
        "**Johan Stewart**\n",
        "\n",
        "**texto en negrita**\n"
      ],
      "metadata": {
        "id": "ZR2FULBGHg9T"
      }
    },
    {
      "cell_type": "markdown",
      "source": [
        "## Italics\n",
        "*Johan Stewart*\n",
        "\n",
        "*texto en cursiva*"
      ],
      "metadata": {
        "id": "TDX25qjvIRER"
      }
    },
    {
      "cell_type": "markdown",
      "source": [
        "## Combine\n",
        "\n",
        "***Johan Stewart***"
      ],
      "metadata": {
        "id": "29sjqAI3IR3Q"
      }
    },
    {
      "cell_type": "markdown",
      "source": [
        "## Underline\n",
        "\n",
        "With Markdown it cannot be done... but there is solution\n",
        "\n",
        "<u> Johan </u>"
      ],
      "metadata": {
        "id": "y8pRdbRHIeJQ"
      }
    },
    {
      "cell_type": "markdown",
      "source": [
        "## Change color and font\n",
        "\n",
        "<font color = \"red\"> Johan </font>\n",
        "\n",
        "<font face = \"times new roman\"> Johan </font>\n",
        "\n",
        "<font size = \"4\"> Johan </font>\n",
        "\n",
        "<font color = \"purple\" face = \"calibri\" size = \"5\"> Johan </font>"
      ],
      "metadata": {
        "id": "hay1R2J3Jqrb"
      }
    }
  ]
}