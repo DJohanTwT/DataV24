{
  "nbformat": 4,
  "nbformat_minor": 0,
  "metadata": {
    "colab": {
      "provenance": [],
      "authorship_tag": "ABX9TyPpgEl47lRiUm4bIM8Ngz6H",
      "include_colab_link": true
    },
    "kernelspec": {
      "name": "python3",
      "display_name": "Python 3"
    },
    "language_info": {
      "name": "python"
    }
  },
  "cells": [
    {
      "cell_type": "markdown",
      "metadata": {
        "id": "view-in-github",
        "colab_type": "text"
      },
      "source": [
        "<a href=\"https://colab.research.google.com/github/DJohanTwT/DataV24/blob/main/Clase_2_Python_Basic.ipynb\" target=\"_parent\"><img src=\"https://colab.research.google.com/assets/colab-badge.svg\" alt=\"Open In Colab\"/></a>"
      ]
    },
    {
      "cell_type": "markdown",
      "source": [
        "# **1. What is Python?**\n",
        "General programming language, use it for everything.\n",
        "* Data analysis\n",
        "* Machinne learning\n",
        "* Web Scrapping (a mode of search proving instructions)\n",
        "* Create videogames\n",
        "* Create more software\n",
        "* Statistical analysis\n",
        "\n"
      ],
      "metadata": {
        "id": "ssWHI7IdX6DY"
      }
    },
    {
      "cell_type": "markdown",
      "source": [
        "# **2. Why Python**\n",
        "\n",
        "* It's simple\n",
        "* Open-Source\n",
        "* Popular and documentation"
      ],
      "metadata": {
        "id": "2JUjTLpvZJKx"
      }
    },
    {
      "cell_type": "markdown",
      "source": [
        "# **3. As a Calculator**"
      ],
      "metadata": {
        "id": "j24jGktebHCF"
      }
    },
    {
      "cell_type": "code",
      "execution_count": 4,
      "metadata": {
        "colab": {
          "base_uri": "https://localhost:8080/"
        },
        "id": "uw5v2YXrXhl3",
        "outputId": "af49061c-2282-41f7-df58-71d8d9d515d6"
      },
      "outputs": [
        {
          "output_type": "execute_result",
          "data": {
            "text/plain": [
              "7"
            ]
          },
          "metadata": {},
          "execution_count": 4
        }
      ],
      "source": [
        "# Addition\n",
        "2 + 5"
      ]
    },
    {
      "cell_type": "code",
      "source": [
        "# Substraction\n",
        "51 - 21"
      ],
      "metadata": {
        "colab": {
          "base_uri": "https://localhost:8080/"
        },
        "id": "hTTI5AoDboN-",
        "outputId": "4a416999-36b2-497c-9516-8a5846d5a19c"
      },
      "execution_count": 5,
      "outputs": [
        {
          "output_type": "execute_result",
          "data": {
            "text/plain": [
              "30"
            ]
          },
          "metadata": {},
          "execution_count": 5
        }
      ]
    },
    {
      "cell_type": "code",
      "source": [
        "# Multiplication\n",
        "7 * 8"
      ],
      "metadata": {
        "colab": {
          "base_uri": "https://localhost:8080/"
        },
        "id": "s02NggG5by4l",
        "outputId": "3f147eea-24d8-4752-9ca9-b37bc0248a96"
      },
      "execution_count": 6,
      "outputs": [
        {
          "output_type": "execute_result",
          "data": {
            "text/plain": [
              "56"
            ]
          },
          "metadata": {},
          "execution_count": 6
        }
      ]
    },
    {
      "cell_type": "code",
      "source": [
        "# Division\n",
        "78 / 7"
      ],
      "metadata": {
        "colab": {
          "base_uri": "https://localhost:8080/"
        },
        "id": "wr5puCxvb9ae",
        "outputId": "3dad33d5-4217-4ca3-b717-8a23e3418e69"
      },
      "execution_count": 7,
      "outputs": [
        {
          "output_type": "execute_result",
          "data": {
            "text/plain": [
              "11.142857142857142"
            ]
          },
          "metadata": {},
          "execution_count": 7
        }
      ]
    },
    {
      "cell_type": "code",
      "source": [
        "# Integer Division\n",
        "78 // 7"
      ],
      "metadata": {
        "colab": {
          "base_uri": "https://localhost:8080/"
        },
        "id": "ravWYkgOdLxh",
        "outputId": "ffa0e962-d2c1-410c-a58d-1d9c6e0a15cf"
      },
      "execution_count": 8,
      "outputs": [
        {
          "output_type": "execute_result",
          "data": {
            "text/plain": [
              "11"
            ]
          },
          "metadata": {},
          "execution_count": 8
        }
      ]
    },
    {
      "cell_type": "code",
      "source": [
        "# Exponential\n",
        "2 ** 3 #two to the power of three - two cubed"
      ],
      "metadata": {
        "colab": {
          "base_uri": "https://localhost:8080/"
        },
        "id": "duVpbwzMdWqL",
        "outputId": "d06a1347-d7d8-4e8f-f2a3-916d260e7113"
      },
      "execution_count": 9,
      "outputs": [
        {
          "output_type": "execute_result",
          "data": {
            "text/plain": [
              "8"
            ]
          },
          "metadata": {},
          "execution_count": 9
        }
      ]
    }
  ]
}