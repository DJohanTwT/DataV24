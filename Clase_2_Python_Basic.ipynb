{
  "nbformat": 4,
  "nbformat_minor": 0,
  "metadata": {
    "colab": {
      "provenance": [],
      "authorship_tag": "ABX9TyOcMUHP5v9A9qJrrjfQCPUt",
      "include_colab_link": true
    },
    "kernelspec": {
      "name": "python3",
      "display_name": "Python 3"
    },
    "language_info": {
      "name": "python"
    }
  },
  "cells": [
    {
      "cell_type": "markdown",
      "metadata": {
        "id": "view-in-github",
        "colab_type": "text"
      },
      "source": [
        "<a href=\"https://colab.research.google.com/github/DJohanTwT/DataV24/blob/main/Clase_2_Python_Basic.ipynb\" target=\"_parent\"><img src=\"https://colab.research.google.com/assets/colab-badge.svg\" alt=\"Open In Colab\"/></a>"
      ]
    },
    {
      "cell_type": "markdown",
      "source": [
        "# **1. What is Python?**\n",
        "General programming language, use it for everything.\n",
        "* Data analysis\n",
        "* Machinne learning\n",
        "* Web Scrapping (a mode of search proving instructions)\n",
        "* Create videogames\n",
        "* Create more software\n",
        "* Statistical analysis\n",
        "\n"
      ],
      "metadata": {
        "id": "ssWHI7IdX6DY"
      }
    },
    {
      "cell_type": "markdown",
      "source": [
        "# **2. Why Python**\n",
        "\n",
        "* It's simple\n",
        "* Open-Source\n",
        "* Popular and documentation"
      ],
      "metadata": {
        "id": "2JUjTLpvZJKx"
      }
    },
    {
      "cell_type": "markdown",
      "source": [
        "# **3. As a Calculator**"
      ],
      "metadata": {
        "id": "j24jGktebHCF"
      }
    },
    {
      "cell_type": "code",
      "execution_count": null,
      "metadata": {
        "colab": {
          "base_uri": "https://localhost:8080/"
        },
        "id": "uw5v2YXrXhl3",
        "outputId": "af49061c-2282-41f7-df58-71d8d9d515d6"
      },
      "outputs": [
        {
          "output_type": "execute_result",
          "data": {
            "text/plain": [
              "7"
            ]
          },
          "metadata": {},
          "execution_count": 4
        }
      ],
      "source": [
        "# Addition\n",
        "2 + 5 #two plus five"
      ]
    },
    {
      "cell_type": "code",
      "source": [
        "# Substraction\n",
        "51 - 21 #fifty one minus twenty one"
      ],
      "metadata": {
        "colab": {
          "base_uri": "https://localhost:8080/"
        },
        "id": "hTTI5AoDboN-",
        "outputId": "4a416999-36b2-497c-9516-8a5846d5a19c"
      },
      "execution_count": null,
      "outputs": [
        {
          "output_type": "execute_result",
          "data": {
            "text/plain": [
              "30"
            ]
          },
          "metadata": {},
          "execution_count": 5
        }
      ]
    },
    {
      "cell_type": "code",
      "source": [
        "# Multiplication\n",
        "7 * 8 #seven times eight"
      ],
      "metadata": {
        "colab": {
          "base_uri": "https://localhost:8080/"
        },
        "id": "s02NggG5by4l",
        "outputId": "3f147eea-24d8-4752-9ca9-b37bc0248a96"
      },
      "execution_count": null,
      "outputs": [
        {
          "output_type": "execute_result",
          "data": {
            "text/plain": [
              "56"
            ]
          },
          "metadata": {},
          "execution_count": 6
        }
      ]
    },
    {
      "cell_type": "code",
      "source": [
        "# Division\n",
        "78 / 7 #seventy eight divided by 7"
      ],
      "metadata": {
        "colab": {
          "base_uri": "https://localhost:8080/"
        },
        "id": "wr5puCxvb9ae",
        "outputId": "3dad33d5-4217-4ca3-b717-8a23e3418e69"
      },
      "execution_count": null,
      "outputs": [
        {
          "output_type": "execute_result",
          "data": {
            "text/plain": [
              "11.142857142857142"
            ]
          },
          "metadata": {},
          "execution_count": 7
        }
      ]
    },
    {
      "cell_type": "code",
      "source": [
        "# Integer Division\n",
        "78 // 7"
      ],
      "metadata": {
        "colab": {
          "base_uri": "https://localhost:8080/"
        },
        "id": "ravWYkgOdLxh",
        "outputId": "ffa0e962-d2c1-410c-a58d-1d9c6e0a15cf"
      },
      "execution_count": null,
      "outputs": [
        {
          "output_type": "execute_result",
          "data": {
            "text/plain": [
              "11"
            ]
          },
          "metadata": {},
          "execution_count": 8
        }
      ]
    },
    {
      "cell_type": "code",
      "source": [
        "# Exponential\n",
        "2 ** 3 #two to the power of three - two cubed"
      ],
      "metadata": {
        "colab": {
          "base_uri": "https://localhost:8080/"
        },
        "id": "duVpbwzMdWqL",
        "outputId": "d06a1347-d7d8-4e8f-f2a3-916d260e7113"
      },
      "execution_count": null,
      "outputs": [
        {
          "output_type": "execute_result",
          "data": {
            "text/plain": [
              "8"
            ]
          },
          "metadata": {},
          "execution_count": 9
        }
      ]
    },
    {
      "cell_type": "markdown",
      "source": [
        "# **4. Parenthesis**"
      ],
      "metadata": {
        "id": "in9rli-OFAnV"
      }
    },
    {
      "cell_type": "code",
      "source": [
        "# w/o () - without (sin) parenthesis\n",
        "2 + 3 * 6 / 2"
      ],
      "metadata": {
        "colab": {
          "base_uri": "https://localhost:8080/"
        },
        "id": "i5Zuj-hfFsDA",
        "outputId": "77346bb3-3c7d-46aa-9840-fd1241dce8dd"
      },
      "execution_count": null,
      "outputs": [
        {
          "output_type": "execute_result",
          "data": {
            "text/plain": [
              "11.0"
            ]
          },
          "metadata": {},
          "execution_count": 2
        }
      ]
    },
    {
      "cell_type": "code",
      "source": [
        "# w () - with parenthesis\n",
        "(2 + 3) * 6 / 2"
      ],
      "metadata": {
        "colab": {
          "base_uri": "https://localhost:8080/"
        },
        "id": "8_U8442vGFxW",
        "outputId": "b7a8c96f-5478-43f2-bd4a-0ab6d68d29e2"
      },
      "execution_count": null,
      "outputs": [
        {
          "output_type": "execute_result",
          "data": {
            "text/plain": [
              "15.0"
            ]
          },
          "metadata": {},
          "execution_count": 3
        }
      ]
    },
    {
      "cell_type": "markdown",
      "source": [
        "# **5. Integers and Real Numbers**"
      ],
      "metadata": {
        "id": "sjrnKomPGUS9"
      }
    },
    {
      "cell_type": "code",
      "source": [
        "# Integers\n",
        "type(26) #solo es un numero número entero - #Type permite saber que numero es"
      ],
      "metadata": {
        "colab": {
          "base_uri": "https://localhost:8080/"
        },
        "id": "i_VtUfMiHQqA",
        "outputId": "fc57090c-543f-4940-9f5a-a487091511ad"
      },
      "execution_count": null,
      "outputs": [
        {
          "output_type": "execute_result",
          "data": {
            "text/plain": [
              "int"
            ]
          },
          "metadata": {},
          "execution_count": 4
        }
      ]
    },
    {
      "cell_type": "code",
      "source": [
        "# Real number\n",
        "type(26.00) #solo es un numero número real - Float es número real en programación"
      ],
      "metadata": {
        "colab": {
          "base_uri": "https://localhost:8080/"
        },
        "id": "p1GkEtCCHs2x",
        "outputId": "3ef3e0e3-09dc-4b31-b980-c973f1d28e3e"
      },
      "execution_count": null,
      "outputs": [
        {
          "output_type": "execute_result",
          "data": {
            "text/plain": [
              "float"
            ]
          },
          "metadata": {},
          "execution_count": 6
        }
      ]
    },
    {
      "cell_type": "markdown",
      "source": [
        "# **6. Scientific notation**"
      ],
      "metadata": {
        "id": "7fL3IMDfKgk-"
      }
    },
    {
      "cell_type": "code",
      "source": [
        "#50 in scientific notation\n",
        "5e1 #5 times 10 to the power of 1"
      ],
      "metadata": {
        "colab": {
          "base_uri": "https://localhost:8080/"
        },
        "id": "_I8NxBkgKnXu",
        "outputId": "aca70473-5d10-4095-e403-c3eee4bce9f3"
      },
      "execution_count": null,
      "outputs": [
        {
          "output_type": "execute_result",
          "data": {
            "text/plain": [
              "50.0"
            ]
          },
          "metadata": {},
          "execution_count": 11
        }
      ]
    },
    {
      "cell_type": "code",
      "source": [
        "5e-1 #5 times 10 to the power of -1"
      ],
      "metadata": {
        "colab": {
          "base_uri": "https://localhost:8080/"
        },
        "id": "6IuTGWWCK33m",
        "outputId": "2c94fdb7-e435-4b94-9ec5-9e343633bb89"
      },
      "execution_count": null,
      "outputs": [
        {
          "output_type": "execute_result",
          "data": {
            "text/plain": [
              "0.5"
            ]
          },
          "metadata": {},
          "execution_count": 13
        }
      ]
    },
    {
      "cell_type": "markdown",
      "source": [
        "# **7. Basic Functions**"
      ],
      "metadata": {
        "id": "X1yWPfNcLAA-"
      }
    },
    {
      "cell_type": "markdown",
      "source": [
        "\n",
        "## 7.1. Print - muestra o imprimir"
      ],
      "metadata": {
        "id": "vgPVH7foM4ia"
      }
    },
    {
      "cell_type": "code",
      "source": [
        "print(5+3) #muestra los dos resultados\n",
        "print(5+2)"
      ],
      "metadata": {
        "colab": {
          "base_uri": "https://localhost:8080/"
        },
        "id": "FRYsWlyFMugU",
        "outputId": "61aa6051-9b34-4234-c0e3-a33e68227f6b"
      },
      "execution_count": null,
      "outputs": [
        {
          "output_type": "stream",
          "name": "stdout",
          "text": [
            "8\n",
            "7\n"
          ]
        }
      ]
    },
    {
      "cell_type": "code",
      "source": [
        "print(\"Hello World\") #muestra un texto"
      ],
      "metadata": {
        "colab": {
          "base_uri": "https://localhost:8080/"
        },
        "id": "dUN5daZ6MxXR",
        "outputId": "0c649984-4d06-4064-b4f4-06c8f3d14f22"
      },
      "execution_count": null,
      "outputs": [
        {
          "output_type": "stream",
          "name": "stdout",
          "text": [
            "Hello World\n"
          ]
        }
      ]
    },
    {
      "cell_type": "code",
      "source": [
        "print(5+3,2+5) #muestra los resultados en una misma linea"
      ],
      "metadata": {
        "colab": {
          "base_uri": "https://localhost:8080/"
        },
        "id": "SHf4As90N9sz",
        "outputId": "d3248d21-2e31-4225-e91d-2379a64d6d55"
      },
      "execution_count": null,
      "outputs": [
        {
          "output_type": "stream",
          "name": "stdout",
          "text": [
            "8 7\n"
          ]
        }
      ]
    },
    {
      "cell_type": "code",
      "source": [
        "#Loop o bucle\n",
        "for i in range(0,10): print(i)"
      ],
      "metadata": {
        "colab": {
          "base_uri": "https://localhost:8080/"
        },
        "id": "5vtNMH3WOIX7",
        "outputId": "58e33caa-b198-4e1e-cfb6-caf8db88453a"
      },
      "execution_count": null,
      "outputs": [
        {
          "output_type": "stream",
          "name": "stdout",
          "text": [
            "0\n",
            "1\n",
            "2\n",
            "3\n",
            "4\n",
            "5\n",
            "6\n",
            "7\n",
            "8\n",
            "9\n"
          ]
        }
      ]
    },
    {
      "cell_type": "code",
      "source": [
        "#Loop - bucle de dos en dos\n",
        "for i in range(0,10,2): print(i)"
      ],
      "metadata": {
        "colab": {
          "base_uri": "https://localhost:8080/"
        },
        "id": "HuZIv_tMPjv-",
        "outputId": "4480ebe0-a909-4582-cf07-9e9431d0e887"
      },
      "execution_count": null,
      "outputs": [
        {
          "output_type": "stream",
          "name": "stdout",
          "text": [
            "0\n",
            "2\n",
            "4\n",
            "6\n",
            "8\n"
          ]
        }
      ]
    },
    {
      "cell_type": "code",
      "source": [
        "#Loop - invertir el order\n",
        "for i in range(10,0,-1): print(i)"
      ],
      "metadata": {
        "colab": {
          "base_uri": "https://localhost:8080/"
        },
        "id": "bY6ctnRRP8fZ",
        "outputId": "90c87a22-3449-4078-d488-3f92f8b89019"
      },
      "execution_count": null,
      "outputs": [
        {
          "output_type": "stream",
          "name": "stdout",
          "text": [
            "10\n",
            "9\n",
            "8\n",
            "7\n",
            "6\n",
            "5\n",
            "4\n",
            "3\n",
            "2\n",
            "1\n"
          ]
        }
      ]
    },
    {
      "cell_type": "code",
      "source": [
        "# With Text\n",
        "print(\"Hello World\") #todo lo que este en comillas es una cadena de texto\n",
        "print(\"My name is:\")\n",
        "print(\"First name:\", \"Johan\", \"last name:\", \"Fierro\") #se puede separar diferente lo que se quiere que imprima por comas\n",
        "print(\"First name:\", \"Johan\\t last name:\", \"Fierro\") #\\t tabula, osea hace un espacio en blanco\n",
        "print(\"First name:\", \"Johan\\nlast name:\", \"Fierro\") #\\n rompe la linea y crea una nueva\n"
      ],
      "metadata": {
        "colab": {
          "base_uri": "https://localhost:8080/"
        },
        "id": "45Gg9PUIIdQR",
        "outputId": "96ba35bd-a3aa-485d-e564-6105dd6851b4"
      },
      "execution_count": 6,
      "outputs": [
        {
          "output_type": "stream",
          "name": "stdout",
          "text": [
            "Hello World\n",
            "My name is:\n",
            "First name: Johan last name: Fierro\n",
            "First name: Johan\t last name: Fierro\n",
            "First name: Johan\n",
            "last name: Fierro\n"
          ]
        }
      ]
    },
    {
      "cell_type": "markdown",
      "source": [
        "## 7.2. Round - redondear"
      ],
      "metadata": {
        "id": "R2zkiP1QJ7-W"
      }
    },
    {
      "cell_type": "code",
      "source": [
        "# round(number, decimals)\n",
        "round(1.2356,3) #redondea a tres decimales"
      ],
      "metadata": {
        "colab": {
          "base_uri": "https://localhost:8080/"
        },
        "id": "7qCrwScRKCVt",
        "outputId": "1f564ce1-09f6-4163-cdb1-d683ef17f919"
      },
      "execution_count": 7,
      "outputs": [
        {
          "output_type": "execute_result",
          "data": {
            "text/plain": [
              "1.236"
            ]
          },
          "metadata": {},
          "execution_count": 7
        }
      ]
    },
    {
      "cell_type": "code",
      "source": [
        "# Example 1 Principles (answer the exercise and then if I have time, design the problem and be more eficent)\n",
        "# Let's round the number 1,23587\n",
        "\n",
        "print(\"The aproximation of the number\", 1.23587, \"with:\", 3, \"decimals is:\", round(1.23587,3))"
      ],
      "metadata": {
        "colab": {
          "base_uri": "https://localhost:8080/"
        },
        "id": "_NBilEilLGew",
        "outputId": "f7501a35-dc26-40bf-e2d4-65c752c12ad4"
      },
      "execution_count": 10,
      "outputs": [
        {
          "output_type": "stream",
          "name": "stdout",
          "text": [
            "The aproximation of the number 1.23587 with: 3 decimals is: 1.236\n"
          ]
        }
      ]
    },
    {
      "cell_type": "code",
      "source": [
        "#Example 1.2\n",
        "print(\"The aproximation of the number\", 1.23587, \"with:\")\n",
        "print(\"3 decimals is:\", round(1.23587,3))\n",
        "print(\"2 decimals is:\", round(1.23587,2))\n",
        "print(\"1 decimals is:\", round(1.23587,1))"
      ],
      "metadata": {
        "colab": {
          "base_uri": "https://localhost:8080/"
        },
        "id": "dXkvB51EMG3S",
        "outputId": "008dc0ee-73e8-46c9-cbf7-797663157207"
      },
      "execution_count": 57,
      "outputs": [
        {
          "output_type": "stream",
          "name": "stdout",
          "text": [
            "The aproximation of the number 1.23587 with:\n",
            "3 decimals is: 1.236\n",
            "2 decimals is: 1.24\n",
            "1 decimals is: 1.2\n"
          ]
        }
      ]
    },
    {
      "cell_type": "code",
      "source": [
        "# Punto del taller\n",
        "print(\"The aproximation of the number\", 1.23587, \"with:\")\n",
        "for i in range(3,0,-1):\n",
        "  print(i,\"decimals is:\", round(1.23587,i)) #se imprime i de forma descendente desde 3 a 1. En el print esta separada por comas, por lo que se imprime el texto decimales y el redondeado que tambien cambia desde 3 a 1 de acuerdo con el rango"
      ],
      "metadata": {
        "colab": {
          "base_uri": "https://localhost:8080/"
        },
        "id": "rlMT9QFAPhYo",
        "outputId": "fd32e9e0-758a-4ef6-ede8-f513ba451151"
      },
      "execution_count": 59,
      "outputs": [
        {
          "output_type": "stream",
          "name": "stdout",
          "text": [
            "The aproximation of the number 1.23587 with:\n",
            "3 decimals is: 1.236\n",
            "2 decimals is: 1.24\n",
            "1 decimals is: 1.2\n"
          ]
        }
      ]
    },
    {
      "cell_type": "code",
      "source": [
        "# primeros 10 multiplos de la tabla del 4\n",
        "print(\"The first 10 multiples of 4 are:\")\n",
        "for i in range(1,11): print(i, \"x 4 =\", 4*i)"
      ],
      "metadata": {
        "colab": {
          "base_uri": "https://localhost:8080/"
        },
        "id": "0griIs0DQF38",
        "outputId": "ace1e8ca-2585-4ef5-c2f8-5962e358163f"
      },
      "execution_count": 65,
      "outputs": [
        {
          "output_type": "stream",
          "name": "stdout",
          "text": [
            "The first 10 multiples of 4 are:\n",
            "1 x 4 = 4\n",
            "2 x 4 = 8\n",
            "3 x 4 = 12\n",
            "4 x 4 = 16\n",
            "5 x 4 = 20\n",
            "6 x 4 = 24\n",
            "7 x 4 = 28\n",
            "8 x 4 = 32\n",
            "9 x 4 = 36\n",
            "10 x 4 = 40\n"
          ]
        }
      ]
    }
  ]
}